{
 "cells": [
  {
   "cell_type": "code",
   "execution_count": 1,
   "metadata": {
    "id": "WSJPL4Xnwz5v"
   },
   "outputs": [],
   "source": [
    "import pandas as pd"
   ]
  },
  {
   "cell_type": "markdown",
   "metadata": {},
   "source": [
    "# **A- Customers data**"
   ]
  },
  {
   "cell_type": "markdown",
   "metadata": {
    "id": "5tBKRvsFyuAb"
   },
   "source": [
    "# 1-customers_dataset"
   ]
  },
  {
   "cell_type": "code",
   "execution_count": 2,
   "metadata": {
    "colab": {
     "base_uri": "https://localhost:8080/",
     "height": 261
    },
    "id": "OIBnFvmBsmnY",
    "outputId": "b1ab8982-a6a5-4ceb-e6ba-ae0ced989e1a"
   },
   "outputs": [
    {
     "name": "stderr",
     "output_type": "stream",
     "text": [
      "<>:1: SyntaxWarning: invalid escape sequence '\\o'\n",
      "<>:1: SyntaxWarning: invalid escape sequence '\\o'\n",
      "C:\\Users\\Amr Saber\\AppData\\Local\\Temp\\ipykernel_28988\\2356573097.py:1: SyntaxWarning: invalid escape sequence '\\o'\n",
      "  df_customers = pd.read_csv('archive (4)\\olist_customers_dataset.csv', encoding='latin-1')\n"
     ]
    },
    {
     "data": {
      "text/html": [
       "<div>\n",
       "<style scoped>\n",
       "    .dataframe tbody tr th:only-of-type {\n",
       "        vertical-align: middle;\n",
       "    }\n",
       "\n",
       "    .dataframe tbody tr th {\n",
       "        vertical-align: top;\n",
       "    }\n",
       "\n",
       "    .dataframe thead th {\n",
       "        text-align: right;\n",
       "    }\n",
       "</style>\n",
       "<table border=\"1\" class=\"dataframe\">\n",
       "  <thead>\n",
       "    <tr style=\"text-align: right;\">\n",
       "      <th></th>\n",
       "      <th>customer_id</th>\n",
       "      <th>customer_unique_id</th>\n",
       "      <th>customer_zip_code_prefix</th>\n",
       "      <th>customer_city</th>\n",
       "      <th>customer_state</th>\n",
       "    </tr>\n",
       "  </thead>\n",
       "  <tbody>\n",
       "    <tr>\n",
       "      <th>0</th>\n",
       "      <td>06b8999e2fba1a1fbc88172c00ba8bc7</td>\n",
       "      <td>861eff4711a542e4b93843c6dd7febb0</td>\n",
       "      <td>14409</td>\n",
       "      <td>franca</td>\n",
       "      <td>SP</td>\n",
       "    </tr>\n",
       "    <tr>\n",
       "      <th>1</th>\n",
       "      <td>18955e83d337fd6b2def6b18a428ac77</td>\n",
       "      <td>290c77bc529b7ac935b93aa66c333dc3</td>\n",
       "      <td>9790</td>\n",
       "      <td>sao bernardo do campo</td>\n",
       "      <td>SP</td>\n",
       "    </tr>\n",
       "    <tr>\n",
       "      <th>2</th>\n",
       "      <td>4e7b3e00288586ebd08712fdd0374a03</td>\n",
       "      <td>060e732b5b29e8181a18229c7b0b2b5e</td>\n",
       "      <td>1151</td>\n",
       "      <td>sao paulo</td>\n",
       "      <td>SP</td>\n",
       "    </tr>\n",
       "    <tr>\n",
       "      <th>3</th>\n",
       "      <td>b2b6027bc5c5109e529d4dc6358b12c3</td>\n",
       "      <td>259dac757896d24d7702b9acbbff3f3c</td>\n",
       "      <td>8775</td>\n",
       "      <td>mogi das cruzes</td>\n",
       "      <td>SP</td>\n",
       "    </tr>\n",
       "    <tr>\n",
       "      <th>4</th>\n",
       "      <td>4f2d8ab171c80ec8364f7c12e35b23ad</td>\n",
       "      <td>345ecd01c38d18a9036ed96c73b8d066</td>\n",
       "      <td>13056</td>\n",
       "      <td>campinas</td>\n",
       "      <td>SP</td>\n",
       "    </tr>\n",
       "  </tbody>\n",
       "</table>\n",
       "</div>"
      ],
      "text/plain": [
       "                        customer_id                customer_unique_id  \\\n",
       "0  06b8999e2fba1a1fbc88172c00ba8bc7  861eff4711a542e4b93843c6dd7febb0   \n",
       "1  18955e83d337fd6b2def6b18a428ac77  290c77bc529b7ac935b93aa66c333dc3   \n",
       "2  4e7b3e00288586ebd08712fdd0374a03  060e732b5b29e8181a18229c7b0b2b5e   \n",
       "3  b2b6027bc5c5109e529d4dc6358b12c3  259dac757896d24d7702b9acbbff3f3c   \n",
       "4  4f2d8ab171c80ec8364f7c12e35b23ad  345ecd01c38d18a9036ed96c73b8d066   \n",
       "\n",
       "   customer_zip_code_prefix          customer_city customer_state  \n",
       "0                     14409                 franca             SP  \n",
       "1                      9790  sao bernardo do campo             SP  \n",
       "2                      1151              sao paulo             SP  \n",
       "3                      8775        mogi das cruzes             SP  \n",
       "4                     13056               campinas             SP  "
      ]
     },
     "execution_count": 2,
     "metadata": {},
     "output_type": "execute_result"
    }
   ],
   "source": [
    "df_customers = pd.read_csv('archive (4)\\olist_customers_dataset.csv', encoding='latin-1')\n",
    "df_customers.head()"
   ]
  },
  {
   "cell_type": "code",
   "execution_count": 3,
   "metadata": {
    "colab": {
     "base_uri": "https://localhost:8080/"
    },
    "id": "zGKmiZEvyaqW",
    "outputId": "12739b5a-310d-4b0c-8ef3-94faf3610083"
   },
   "outputs": [
    {
     "name": "stdout",
     "output_type": "stream",
     "text": [
      "<class 'pandas.core.frame.DataFrame'>\n",
      "RangeIndex: 99441 entries, 0 to 99440\n",
      "Data columns (total 5 columns):\n",
      " #   Column                    Non-Null Count  Dtype \n",
      "---  ------                    --------------  ----- \n",
      " 0   customer_id               99441 non-null  object\n",
      " 1   customer_unique_id        99441 non-null  object\n",
      " 2   customer_zip_code_prefix  99441 non-null  int64 \n",
      " 3   customer_city             99441 non-null  object\n",
      " 4   customer_state            99441 non-null  object\n",
      "dtypes: int64(1), object(4)\n",
      "memory usage: 3.8+ MB\n"
     ]
    }
   ],
   "source": [
    "df_customers.info()"
   ]
  },
  {
   "cell_type": "code",
   "execution_count": 4,
   "metadata": {
    "colab": {
     "base_uri": "https://localhost:8080/",
     "height": 300
    },
    "id": "jhYVCvH0ypM9",
    "outputId": "a519d568-d714-48a0-bf62-7a89401e4e2e"
   },
   "outputs": [
    {
     "data": {
      "text/html": [
       "<div>\n",
       "<style scoped>\n",
       "    .dataframe tbody tr th:only-of-type {\n",
       "        vertical-align: middle;\n",
       "    }\n",
       "\n",
       "    .dataframe tbody tr th {\n",
       "        vertical-align: top;\n",
       "    }\n",
       "\n",
       "    .dataframe thead th {\n",
       "        text-align: right;\n",
       "    }\n",
       "</style>\n",
       "<table border=\"1\" class=\"dataframe\">\n",
       "  <thead>\n",
       "    <tr style=\"text-align: right;\">\n",
       "      <th></th>\n",
       "      <th>customer_zip_code_prefix</th>\n",
       "    </tr>\n",
       "  </thead>\n",
       "  <tbody>\n",
       "    <tr>\n",
       "      <th>count</th>\n",
       "      <td>99441.000000</td>\n",
       "    </tr>\n",
       "    <tr>\n",
       "      <th>mean</th>\n",
       "      <td>35137.474583</td>\n",
       "    </tr>\n",
       "    <tr>\n",
       "      <th>std</th>\n",
       "      <td>29797.938996</td>\n",
       "    </tr>\n",
       "    <tr>\n",
       "      <th>min</th>\n",
       "      <td>1003.000000</td>\n",
       "    </tr>\n",
       "    <tr>\n",
       "      <th>25%</th>\n",
       "      <td>11347.000000</td>\n",
       "    </tr>\n",
       "    <tr>\n",
       "      <th>50%</th>\n",
       "      <td>24416.000000</td>\n",
       "    </tr>\n",
       "    <tr>\n",
       "      <th>75%</th>\n",
       "      <td>58900.000000</td>\n",
       "    </tr>\n",
       "    <tr>\n",
       "      <th>max</th>\n",
       "      <td>99990.000000</td>\n",
       "    </tr>\n",
       "  </tbody>\n",
       "</table>\n",
       "</div>"
      ],
      "text/plain": [
       "       customer_zip_code_prefix\n",
       "count              99441.000000\n",
       "mean               35137.474583\n",
       "std                29797.938996\n",
       "min                 1003.000000\n",
       "25%                11347.000000\n",
       "50%                24416.000000\n",
       "75%                58900.000000\n",
       "max                99990.000000"
      ]
     },
     "execution_count": 4,
     "metadata": {},
     "output_type": "execute_result"
    }
   ],
   "source": [
    "df_customers.describe()"
   ]
  },
  {
   "cell_type": "code",
   "execution_count": 5,
   "metadata": {
    "colab": {
     "base_uri": "https://localhost:8080/"
    },
    "id": "uDfxuSi0y3wz",
    "outputId": "05b250c2-107d-4c0b-bbc6-e84601f72a58"
   },
   "outputs": [
    {
     "data": {
      "text/plain": [
       "0"
      ]
     },
     "execution_count": 5,
     "metadata": {},
     "output_type": "execute_result"
    }
   ],
   "source": [
    "df_customers.duplicated().sum()"
   ]
  },
  {
   "cell_type": "markdown",
   "metadata": {
    "id": "H_SL_OsfzBeF"
   },
   "source": [
    "# 2-geolocation_dataset"
   ]
  },
  {
   "cell_type": "code",
   "execution_count": 6,
   "metadata": {
    "colab": {
     "base_uri": "https://localhost:8080/",
     "height": 226
    },
    "id": "81KCtgmRw8LG",
    "outputId": "ecea4761-6807-41dc-b0aa-e5a05553796f"
   },
   "outputs": [
    {
     "name": "stderr",
     "output_type": "stream",
     "text": [
      "<>:1: SyntaxWarning: invalid escape sequence '\\o'\n",
      "<>:1: SyntaxWarning: invalid escape sequence '\\o'\n",
      "C:\\Users\\Amr Saber\\AppData\\Local\\Temp\\ipykernel_28988\\2531606343.py:1: SyntaxWarning: invalid escape sequence '\\o'\n",
      "  df_gelocation = pd.read_csv('archive (4)\\olist_geolocation_dataset.csv', encoding='latin-1')\n"
     ]
    },
    {
     "data": {
      "text/html": [
       "<div>\n",
       "<style scoped>\n",
       "    .dataframe tbody tr th:only-of-type {\n",
       "        vertical-align: middle;\n",
       "    }\n",
       "\n",
       "    .dataframe tbody tr th {\n",
       "        vertical-align: top;\n",
       "    }\n",
       "\n",
       "    .dataframe thead th {\n",
       "        text-align: right;\n",
       "    }\n",
       "</style>\n",
       "<table border=\"1\" class=\"dataframe\">\n",
       "  <thead>\n",
       "    <tr style=\"text-align: right;\">\n",
       "      <th></th>\n",
       "      <th>geolocation_zip_code_prefix</th>\n",
       "      <th>geolocation_lat</th>\n",
       "      <th>geolocation_lng</th>\n",
       "      <th>geolocation_city</th>\n",
       "      <th>geolocation_state</th>\n",
       "    </tr>\n",
       "  </thead>\n",
       "  <tbody>\n",
       "    <tr>\n",
       "      <th>0</th>\n",
       "      <td>1037</td>\n",
       "      <td>-23.545621</td>\n",
       "      <td>-46.639292</td>\n",
       "      <td>sao paulo</td>\n",
       "      <td>SP</td>\n",
       "    </tr>\n",
       "    <tr>\n",
       "      <th>1</th>\n",
       "      <td>1046</td>\n",
       "      <td>-23.546081</td>\n",
       "      <td>-46.644820</td>\n",
       "      <td>sao paulo</td>\n",
       "      <td>SP</td>\n",
       "    </tr>\n",
       "    <tr>\n",
       "      <th>2</th>\n",
       "      <td>1046</td>\n",
       "      <td>-23.546129</td>\n",
       "      <td>-46.642951</td>\n",
       "      <td>sao paulo</td>\n",
       "      <td>SP</td>\n",
       "    </tr>\n",
       "    <tr>\n",
       "      <th>3</th>\n",
       "      <td>1041</td>\n",
       "      <td>-23.544392</td>\n",
       "      <td>-46.639499</td>\n",
       "      <td>sao paulo</td>\n",
       "      <td>SP</td>\n",
       "    </tr>\n",
       "    <tr>\n",
       "      <th>4</th>\n",
       "      <td>1035</td>\n",
       "      <td>-23.541578</td>\n",
       "      <td>-46.641607</td>\n",
       "      <td>sao paulo</td>\n",
       "      <td>SP</td>\n",
       "    </tr>\n",
       "  </tbody>\n",
       "</table>\n",
       "</div>"
      ],
      "text/plain": [
       "   geolocation_zip_code_prefix  geolocation_lat  geolocation_lng  \\\n",
       "0                         1037       -23.545621       -46.639292   \n",
       "1                         1046       -23.546081       -46.644820   \n",
       "2                         1046       -23.546129       -46.642951   \n",
       "3                         1041       -23.544392       -46.639499   \n",
       "4                         1035       -23.541578       -46.641607   \n",
       "\n",
       "  geolocation_city geolocation_state  \n",
       "0        sao paulo                SP  \n",
       "1        sao paulo                SP  \n",
       "2        sao paulo                SP  \n",
       "3        sao paulo                SP  \n",
       "4        sao paulo                SP  "
      ]
     },
     "execution_count": 6,
     "metadata": {},
     "output_type": "execute_result"
    }
   ],
   "source": [
    "df_gelocation = pd.read_csv('archive (4)\\olist_geolocation_dataset.csv', encoding='latin-1')\n",
    "df_gelocation.head() # Use the correct variable name 'df_gelocatioon'"
   ]
  },
  {
   "cell_type": "code",
   "execution_count": 7,
   "metadata": {
    "colab": {
     "base_uri": "https://localhost:8080/",
     "height": 458
    },
    "id": "PhkwkW6-0rkD",
    "outputId": "6502d93e-761e-4abf-b303-97bc8a969825"
   },
   "outputs": [
    {
     "data": {
      "text/plain": [
       "0          False\n",
       "1          False\n",
       "2          False\n",
       "3          False\n",
       "4          False\n",
       "           ...  \n",
       "1000158    False\n",
       "1000159     True\n",
       "1000160     True\n",
       "1000161    False\n",
       "1000162     True\n",
       "Length: 1000163, dtype: bool"
      ]
     },
     "execution_count": 7,
     "metadata": {},
     "output_type": "execute_result"
    }
   ],
   "source": [
    "df_gelocation.duplicated()"
   ]
  },
  {
   "cell_type": "code",
   "execution_count": 8,
   "metadata": {
    "id": "SDELroqp089u"
   },
   "outputs": [],
   "source": [
    "df_gelocation.drop_duplicates(inplace=True)"
   ]
  },
  {
   "cell_type": "code",
   "execution_count": 9,
   "metadata": {
    "colab": {
     "base_uri": "https://localhost:8080/"
    },
    "id": "zPSNETzv1Cys",
    "outputId": "36458300-0d37-46fe-c09b-a5c699ea0ea9"
   },
   "outputs": [
    {
     "data": {
      "text/plain": [
       "0"
      ]
     },
     "execution_count": 9,
     "metadata": {},
     "output_type": "execute_result"
    }
   ],
   "source": [
    "df_gelocation.duplicated().sum()"
   ]
  },
  {
   "cell_type": "code",
   "execution_count": 10,
   "metadata": {
    "colab": {
     "base_uri": "https://localhost:8080/"
    },
    "id": "wADhHYKN1G6-",
    "outputId": "35d424ff-2423-4885-f164-aa42c4a72413"
   },
   "outputs": [
    {
     "name": "stdout",
     "output_type": "stream",
     "text": [
      "<class 'pandas.core.frame.DataFrame'>\n",
      "Index: 738332 entries, 0 to 1000161\n",
      "Data columns (total 5 columns):\n",
      " #   Column                       Non-Null Count   Dtype  \n",
      "---  ------                       --------------   -----  \n",
      " 0   geolocation_zip_code_prefix  738332 non-null  int64  \n",
      " 1   geolocation_lat              738332 non-null  float64\n",
      " 2   geolocation_lng              738332 non-null  float64\n",
      " 3   geolocation_city             738332 non-null  object \n",
      " 4   geolocation_state            738332 non-null  object \n",
      "dtypes: float64(2), int64(1), object(2)\n",
      "memory usage: 33.8+ MB\n"
     ]
    }
   ],
   "source": [
    "df_gelocation.info()"
   ]
  },
  {
   "cell_type": "code",
   "execution_count": 11,
   "metadata": {
    "colab": {
     "base_uri": "https://localhost:8080/"
    },
    "id": "2c5IHZ8RzG8a",
    "outputId": "2dc48984-2666-4ff3-e238-337636cb5741"
   },
   "outputs": [
    {
     "name": "stdout",
     "output_type": "stream",
     "text": [
      "<class 'pandas.core.frame.DataFrame'>\n",
      "Index: 738332 entries, 0 to 1000161\n",
      "Data columns (total 5 columns):\n",
      " #   Column                       Non-Null Count   Dtype  \n",
      "---  ------                       --------------   -----  \n",
      " 0   geolocation_zip_code_prefix  738332 non-null  int64  \n",
      " 1   geolocation_lat              738332 non-null  float64\n",
      " 2   geolocation_lng              738332 non-null  float64\n",
      " 3   geolocation_city             738332 non-null  object \n",
      " 4   geolocation_state            738332 non-null  object \n",
      "dtypes: float64(2), int64(1), object(2)\n",
      "memory usage: 33.8+ MB\n"
     ]
    }
   ],
   "source": [
    "df_gelocation.info()"
   ]
  },
  {
   "cell_type": "markdown",
   "metadata": {
    "id": "CzYaqdYc5r37"
   },
   "source": [
    "# 3- merge geolocation_ customers dataset"
   ]
  },
  {
   "cell_type": "markdown",
   "metadata": {
    "id": "2AkBfBxN2kZz"
   },
   "source": [
    "# rename column ['geolocation_zip_code_prefix']to ['customer_zip_code_prefix]"
   ]
  },
  {
   "cell_type": "code",
   "execution_count": 12,
   "metadata": {
    "id": "C1qIjBdw25Ue"
   },
   "outputs": [],
   "source": [
    "df_gelocation.rename(columns={'geolocation_zip_code_prefix':'customer_zip_code_prefix'},inplace=True)"
   ]
  },
  {
   "cell_type": "markdown",
   "metadata": {
    "id": "35ipwfG61XNz"
   },
   "source": [
    "# merage between customers_dataset and geolocation_dataset"
   ]
  },
  {
   "cell_type": "code",
   "execution_count": 13,
   "metadata": {
    "colab": {
     "base_uri": "https://localhost:8080/",
     "height": 226
    },
    "id": "QuesR4HN3chH",
    "outputId": "bfdb39ce-a71a-49f1-fa48-35adea60e63f"
   },
   "outputs": [
    {
     "data": {
      "text/html": [
       "<div>\n",
       "<style scoped>\n",
       "    .dataframe tbody tr th:only-of-type {\n",
       "        vertical-align: middle;\n",
       "    }\n",
       "\n",
       "    .dataframe tbody tr th {\n",
       "        vertical-align: top;\n",
       "    }\n",
       "\n",
       "    .dataframe thead th {\n",
       "        text-align: right;\n",
       "    }\n",
       "</style>\n",
       "<table border=\"1\" class=\"dataframe\">\n",
       "  <thead>\n",
       "    <tr style=\"text-align: right;\">\n",
       "      <th></th>\n",
       "      <th>customer_id</th>\n",
       "      <th>customer_unique_id</th>\n",
       "      <th>customer_zip_code_prefix</th>\n",
       "      <th>customer_city</th>\n",
       "      <th>customer_state</th>\n",
       "      <th>geolocation_lat</th>\n",
       "      <th>geolocation_lng</th>\n",
       "      <th>geolocation_city</th>\n",
       "      <th>geolocation_state</th>\n",
       "    </tr>\n",
       "  </thead>\n",
       "  <tbody>\n",
       "    <tr>\n",
       "      <th>0</th>\n",
       "      <td>06b8999e2fba1a1fbc88172c00ba8bc7</td>\n",
       "      <td>861eff4711a542e4b93843c6dd7febb0</td>\n",
       "      <td>14409</td>\n",
       "      <td>franca</td>\n",
       "      <td>SP</td>\n",
       "      <td>-20.509897</td>\n",
       "      <td>-47.397866</td>\n",
       "      <td>franca</td>\n",
       "      <td>SP</td>\n",
       "    </tr>\n",
       "    <tr>\n",
       "      <th>1</th>\n",
       "      <td>06b8999e2fba1a1fbc88172c00ba8bc7</td>\n",
       "      <td>861eff4711a542e4b93843c6dd7febb0</td>\n",
       "      <td>14409</td>\n",
       "      <td>franca</td>\n",
       "      <td>SP</td>\n",
       "      <td>-20.497396</td>\n",
       "      <td>-47.399241</td>\n",
       "      <td>franca</td>\n",
       "      <td>SP</td>\n",
       "    </tr>\n",
       "    <tr>\n",
       "      <th>2</th>\n",
       "      <td>06b8999e2fba1a1fbc88172c00ba8bc7</td>\n",
       "      <td>861eff4711a542e4b93843c6dd7febb0</td>\n",
       "      <td>14409</td>\n",
       "      <td>franca</td>\n",
       "      <td>SP</td>\n",
       "      <td>-20.510459</td>\n",
       "      <td>-47.399553</td>\n",
       "      <td>franca</td>\n",
       "      <td>SP</td>\n",
       "    </tr>\n",
       "    <tr>\n",
       "      <th>3</th>\n",
       "      <td>06b8999e2fba1a1fbc88172c00ba8bc7</td>\n",
       "      <td>861eff4711a542e4b93843c6dd7febb0</td>\n",
       "      <td>14409</td>\n",
       "      <td>franca</td>\n",
       "      <td>SP</td>\n",
       "      <td>-20.480940</td>\n",
       "      <td>-47.394161</td>\n",
       "      <td>franca</td>\n",
       "      <td>SP</td>\n",
       "    </tr>\n",
       "    <tr>\n",
       "      <th>4</th>\n",
       "      <td>06b8999e2fba1a1fbc88172c00ba8bc7</td>\n",
       "      <td>861eff4711a542e4b93843c6dd7febb0</td>\n",
       "      <td>14409</td>\n",
       "      <td>franca</td>\n",
       "      <td>SP</td>\n",
       "      <td>-20.515413</td>\n",
       "      <td>-47.398194</td>\n",
       "      <td>franca</td>\n",
       "      <td>SP</td>\n",
       "    </tr>\n",
       "  </tbody>\n",
       "</table>\n",
       "</div>"
      ],
      "text/plain": [
       "                        customer_id                customer_unique_id  \\\n",
       "0  06b8999e2fba1a1fbc88172c00ba8bc7  861eff4711a542e4b93843c6dd7febb0   \n",
       "1  06b8999e2fba1a1fbc88172c00ba8bc7  861eff4711a542e4b93843c6dd7febb0   \n",
       "2  06b8999e2fba1a1fbc88172c00ba8bc7  861eff4711a542e4b93843c6dd7febb0   \n",
       "3  06b8999e2fba1a1fbc88172c00ba8bc7  861eff4711a542e4b93843c6dd7febb0   \n",
       "4  06b8999e2fba1a1fbc88172c00ba8bc7  861eff4711a542e4b93843c6dd7febb0   \n",
       "\n",
       "   customer_zip_code_prefix customer_city customer_state  geolocation_lat  \\\n",
       "0                     14409        franca             SP       -20.509897   \n",
       "1                     14409        franca             SP       -20.497396   \n",
       "2                     14409        franca             SP       -20.510459   \n",
       "3                     14409        franca             SP       -20.480940   \n",
       "4                     14409        franca             SP       -20.515413   \n",
       "\n",
       "   geolocation_lng geolocation_city geolocation_state  \n",
       "0       -47.397866           franca                SP  \n",
       "1       -47.399241           franca                SP  \n",
       "2       -47.399553           franca                SP  \n",
       "3       -47.394161           franca                SP  \n",
       "4       -47.398194           franca                SP  "
      ]
     },
     "execution_count": 13,
     "metadata": {},
     "output_type": "execute_result"
    }
   ],
   "source": [
    "df_merge1 = pd.merge(df_customers, df_gelocation, on='customer_zip_code_prefix', how='left') # Fix typo in df_geolocation\n",
    "df_merge1.head()"
   ]
  },
  {
   "cell_type": "markdown",
   "metadata": {
    "id": "MF3kSYMo4rGR"
   },
   "source": [
    "drop columns geolocation_city\tgeolocation_state"
   ]
  },
  {
   "cell_type": "code",
   "execution_count": 14,
   "metadata": {
    "id": "hKXh7rjH4vHh"
   },
   "outputs": [],
   "source": [
    "df_merge1.drop(columns=['geolocation_city','geolocation_state'],inplace=True) # Correct typo: 'colums' to 'columns'"
   ]
  },
  {
   "cell_type": "code",
   "execution_count": 15,
   "metadata": {
    "id": "SworherzK9dP"
   },
   "outputs": [],
   "source": [
    "df_merge1.rename(columns={'geolocation_lat':'customer_geolocation_lat'},inplace=True)\n",
    "df_merge1.rename(columns={'geolocation_lng':'customer_geolocation_lng'},inplace=True)"
   ]
  },
  {
   "cell_type": "code",
   "execution_count": 16,
   "metadata": {
    "colab": {
     "base_uri": "https://localhost:8080/"
    },
    "id": "9MbkdI-k4M65",
    "outputId": "85ca6bea-f5af-4325-f66a-659c04743432"
   },
   "outputs": [
    {
     "name": "stdout",
     "output_type": "stream",
     "text": [
      "<class 'pandas.core.frame.DataFrame'>\n",
      "RangeIndex: 10328006 entries, 0 to 10328005\n",
      "Data columns (total 7 columns):\n",
      " #   Column                    Dtype  \n",
      "---  ------                    -----  \n",
      " 0   customer_id               object \n",
      " 1   customer_unique_id        object \n",
      " 2   customer_zip_code_prefix  int64  \n",
      " 3   customer_city             object \n",
      " 4   customer_state            object \n",
      " 5   customer_geolocation_lat  float64\n",
      " 6   customer_geolocation_lng  float64\n",
      "dtypes: float64(2), int64(1), object(4)\n",
      "memory usage: 551.6+ MB\n"
     ]
    }
   ],
   "source": [
    "df_merge1.info()"
   ]
  },
  {
   "cell_type": "code",
   "execution_count": 17,
   "metadata": {},
   "outputs": [],
   "source": [
    "#df_merge1.to_csv('customer data.csv', index=False)"
   ]
  },
  {
   "cell_type": "markdown",
   "metadata": {},
   "source": [
    "# B-Orders data"
   ]
  },
  {
   "cell_type": "markdown",
   "metadata": {
    "id": "rGRf1p5v7FDF"
   },
   "source": [
    "# 1- order_payments_dataset"
   ]
  },
  {
   "cell_type": "code",
   "execution_count": 18,
   "metadata": {
    "colab": {
     "base_uri": "https://localhost:8080/",
     "height": 226
    },
    "id": "6d57J7QnxZJf",
    "outputId": "54e30c8f-e102-4ca4-a369-cdedf3970552"
   },
   "outputs": [
    {
     "name": "stderr",
     "output_type": "stream",
     "text": [
      "<>:1: SyntaxWarning: invalid escape sequence '\\o'\n",
      "<>:1: SyntaxWarning: invalid escape sequence '\\o'\n",
      "C:\\Users\\Amr Saber\\AppData\\Local\\Temp\\ipykernel_28988\\3439821068.py:1: SyntaxWarning: invalid escape sequence '\\o'\n",
      "  df_order_payments = pd.read_csv('archive (4)\\olist_order_payments_dataset.csv')\n"
     ]
    },
    {
     "data": {
      "text/html": [
       "<div>\n",
       "<style scoped>\n",
       "    .dataframe tbody tr th:only-of-type {\n",
       "        vertical-align: middle;\n",
       "    }\n",
       "\n",
       "    .dataframe tbody tr th {\n",
       "        vertical-align: top;\n",
       "    }\n",
       "\n",
       "    .dataframe thead th {\n",
       "        text-align: right;\n",
       "    }\n",
       "</style>\n",
       "<table border=\"1\" class=\"dataframe\">\n",
       "  <thead>\n",
       "    <tr style=\"text-align: right;\">\n",
       "      <th></th>\n",
       "      <th>order_id</th>\n",
       "      <th>payment_sequential</th>\n",
       "      <th>payment_type</th>\n",
       "      <th>payment_installments</th>\n",
       "      <th>payment_value</th>\n",
       "    </tr>\n",
       "  </thead>\n",
       "  <tbody>\n",
       "    <tr>\n",
       "      <th>0</th>\n",
       "      <td>b81ef226f3fe1789b1e8b2acac839d17</td>\n",
       "      <td>1</td>\n",
       "      <td>credit_card</td>\n",
       "      <td>8</td>\n",
       "      <td>99.33</td>\n",
       "    </tr>\n",
       "    <tr>\n",
       "      <th>1</th>\n",
       "      <td>a9810da82917af2d9aefd1278f1dcfa0</td>\n",
       "      <td>1</td>\n",
       "      <td>credit_card</td>\n",
       "      <td>1</td>\n",
       "      <td>24.39</td>\n",
       "    </tr>\n",
       "    <tr>\n",
       "      <th>2</th>\n",
       "      <td>25e8ea4e93396b6fa0d3dd708e76c1bd</td>\n",
       "      <td>1</td>\n",
       "      <td>credit_card</td>\n",
       "      <td>1</td>\n",
       "      <td>65.71</td>\n",
       "    </tr>\n",
       "    <tr>\n",
       "      <th>3</th>\n",
       "      <td>ba78997921bbcdc1373bb41e913ab953</td>\n",
       "      <td>1</td>\n",
       "      <td>credit_card</td>\n",
       "      <td>8</td>\n",
       "      <td>107.78</td>\n",
       "    </tr>\n",
       "    <tr>\n",
       "      <th>4</th>\n",
       "      <td>42fdf880ba16b47b59251dd489d4441a</td>\n",
       "      <td>1</td>\n",
       "      <td>credit_card</td>\n",
       "      <td>2</td>\n",
       "      <td>128.45</td>\n",
       "    </tr>\n",
       "  </tbody>\n",
       "</table>\n",
       "</div>"
      ],
      "text/plain": [
       "                           order_id  payment_sequential payment_type  \\\n",
       "0  b81ef226f3fe1789b1e8b2acac839d17                   1  credit_card   \n",
       "1  a9810da82917af2d9aefd1278f1dcfa0                   1  credit_card   \n",
       "2  25e8ea4e93396b6fa0d3dd708e76c1bd                   1  credit_card   \n",
       "3  ba78997921bbcdc1373bb41e913ab953                   1  credit_card   \n",
       "4  42fdf880ba16b47b59251dd489d4441a                   1  credit_card   \n",
       "\n",
       "   payment_installments  payment_value  \n",
       "0                     8          99.33  \n",
       "1                     1          24.39  \n",
       "2                     1          65.71  \n",
       "3                     8         107.78  \n",
       "4                     2         128.45  "
      ]
     },
     "execution_count": 18,
     "metadata": {},
     "output_type": "execute_result"
    }
   ],
   "source": [
    "df_order_payments = pd.read_csv('archive (4)\\olist_order_payments_dataset.csv')\n",
    "df_order_payments.head()"
   ]
  },
  {
   "cell_type": "code",
   "execution_count": 19,
   "metadata": {
    "colab": {
     "base_uri": "https://localhost:8080/"
    },
    "id": "K8Xeha9h7O7Y",
    "outputId": "445b0c6c-cf95-4671-e6e6-2ecd76c2a98c"
   },
   "outputs": [
    {
     "name": "stdout",
     "output_type": "stream",
     "text": [
      "<class 'pandas.core.frame.DataFrame'>\n",
      "RangeIndex: 103886 entries, 0 to 103885\n",
      "Data columns (total 5 columns):\n",
      " #   Column                Non-Null Count   Dtype  \n",
      "---  ------                --------------   -----  \n",
      " 0   order_id              103886 non-null  object \n",
      " 1   payment_sequential    103886 non-null  int64  \n",
      " 2   payment_type          103886 non-null  object \n",
      " 3   payment_installments  103886 non-null  int64  \n",
      " 4   payment_value         103886 non-null  float64\n",
      "dtypes: float64(1), int64(2), object(2)\n",
      "memory usage: 4.0+ MB\n"
     ]
    }
   ],
   "source": [
    "df_order_payments.info()"
   ]
  },
  {
   "cell_type": "markdown",
   "metadata": {
    "id": "zAswjAgE7Wti"
   },
   "source": [
    "\n",
    "# 2- order_reviews_dataset\n",
    "\n"
   ]
  },
  {
   "cell_type": "code",
   "execution_count": 20,
   "metadata": {
    "colab": {
     "base_uri": "https://localhost:8080/",
     "height": 261
    },
    "id": "eJUYRNZ-xfvJ",
    "outputId": "ac43058a-9e15-4fcd-a29b-dbda653e014d"
   },
   "outputs": [
    {
     "name": "stderr",
     "output_type": "stream",
     "text": [
      "<>:1: SyntaxWarning: invalid escape sequence '\\o'\n",
      "<>:1: SyntaxWarning: invalid escape sequence '\\o'\n",
      "C:\\Users\\Amr Saber\\AppData\\Local\\Temp\\ipykernel_28988\\2196520384.py:1: SyntaxWarning: invalid escape sequence '\\o'\n",
      "  df_order_reviews = pd.read_csv('archive (4)\\olist_order_reviews_dataset.csv', encoding='latin-1')\n"
     ]
    },
    {
     "data": {
      "text/html": [
       "<div>\n",
       "<style scoped>\n",
       "    .dataframe tbody tr th:only-of-type {\n",
       "        vertical-align: middle;\n",
       "    }\n",
       "\n",
       "    .dataframe tbody tr th {\n",
       "        vertical-align: top;\n",
       "    }\n",
       "\n",
       "    .dataframe thead th {\n",
       "        text-align: right;\n",
       "    }\n",
       "</style>\n",
       "<table border=\"1\" class=\"dataframe\">\n",
       "  <thead>\n",
       "    <tr style=\"text-align: right;\">\n",
       "      <th></th>\n",
       "      <th>review_id</th>\n",
       "      <th>order_id</th>\n",
       "      <th>review_score</th>\n",
       "      <th>review_comment_title</th>\n",
       "      <th>review_comment_message</th>\n",
       "      <th>review_creation_date</th>\n",
       "      <th>review_answer_timestamp</th>\n",
       "    </tr>\n",
       "  </thead>\n",
       "  <tbody>\n",
       "    <tr>\n",
       "      <th>0</th>\n",
       "      <td>7bc2406110b926393aa56f80a40eba40</td>\n",
       "      <td>73fc7af87114b39712e6da79b0a377eb</td>\n",
       "      <td>4</td>\n",
       "      <td>NaN</td>\n",
       "      <td>NaN</td>\n",
       "      <td>2018-01-18 00:00:00</td>\n",
       "      <td>2018-01-18 21:46:59</td>\n",
       "    </tr>\n",
       "    <tr>\n",
       "      <th>1</th>\n",
       "      <td>80e641a11e56f04c1ad469d5645fdfde</td>\n",
       "      <td>a548910a1c6147796b98fdf73dbeba33</td>\n",
       "      <td>5</td>\n",
       "      <td>NaN</td>\n",
       "      <td>NaN</td>\n",
       "      <td>2018-03-10 00:00:00</td>\n",
       "      <td>2018-03-11 03:05:13</td>\n",
       "    </tr>\n",
       "    <tr>\n",
       "      <th>2</th>\n",
       "      <td>228ce5500dc1d8e020d8d1322874b6f0</td>\n",
       "      <td>f9e4b658b201a9f2ecdecbb34bed034b</td>\n",
       "      <td>5</td>\n",
       "      <td>NaN</td>\n",
       "      <td>NaN</td>\n",
       "      <td>2018-02-17 00:00:00</td>\n",
       "      <td>2018-02-18 14:36:24</td>\n",
       "    </tr>\n",
       "    <tr>\n",
       "      <th>3</th>\n",
       "      <td>e64fb393e7b32834bb789ff8bb30750e</td>\n",
       "      <td>658677c97b385a9be170737859d3511b</td>\n",
       "      <td>5</td>\n",
       "      <td>NaN</td>\n",
       "      <td>Recebi bem antes do prazo estipulado.</td>\n",
       "      <td>2017-04-21 00:00:00</td>\n",
       "      <td>2017-04-21 22:02:06</td>\n",
       "    </tr>\n",
       "    <tr>\n",
       "      <th>4</th>\n",
       "      <td>f7c4243c7fe1938f181bec41a392bdeb</td>\n",
       "      <td>8e6bfb81e283fa7e4f11123a3fb894f1</td>\n",
       "      <td>5</td>\n",
       "      <td>NaN</td>\n",
       "      <td>ParabÃ©ns lojas lannister adorei comprar pela ...</td>\n",
       "      <td>2018-03-01 00:00:00</td>\n",
       "      <td>2018-03-02 10:26:53</td>\n",
       "    </tr>\n",
       "  </tbody>\n",
       "</table>\n",
       "</div>"
      ],
      "text/plain": [
       "                          review_id                          order_id  \\\n",
       "0  7bc2406110b926393aa56f80a40eba40  73fc7af87114b39712e6da79b0a377eb   \n",
       "1  80e641a11e56f04c1ad469d5645fdfde  a548910a1c6147796b98fdf73dbeba33   \n",
       "2  228ce5500dc1d8e020d8d1322874b6f0  f9e4b658b201a9f2ecdecbb34bed034b   \n",
       "3  e64fb393e7b32834bb789ff8bb30750e  658677c97b385a9be170737859d3511b   \n",
       "4  f7c4243c7fe1938f181bec41a392bdeb  8e6bfb81e283fa7e4f11123a3fb894f1   \n",
       "\n",
       "   review_score review_comment_title  \\\n",
       "0             4                  NaN   \n",
       "1             5                  NaN   \n",
       "2             5                  NaN   \n",
       "3             5                  NaN   \n",
       "4             5                  NaN   \n",
       "\n",
       "                              review_comment_message review_creation_date  \\\n",
       "0                                                NaN  2018-01-18 00:00:00   \n",
       "1                                                NaN  2018-03-10 00:00:00   \n",
       "2                                                NaN  2018-02-17 00:00:00   \n",
       "3              Recebi bem antes do prazo estipulado.  2017-04-21 00:00:00   \n",
       "4  ParabÃ©ns lojas lannister adorei comprar pela ...  2018-03-01 00:00:00   \n",
       "\n",
       "  review_answer_timestamp  \n",
       "0     2018-01-18 21:46:59  \n",
       "1     2018-03-11 03:05:13  \n",
       "2     2018-02-18 14:36:24  \n",
       "3     2017-04-21 22:02:06  \n",
       "4     2018-03-02 10:26:53  "
      ]
     },
     "execution_count": 20,
     "metadata": {},
     "output_type": "execute_result"
    }
   ],
   "source": [
    "df_order_reviews = pd.read_csv('archive (4)\\olist_order_reviews_dataset.csv', encoding='latin-1')\n",
    "df_order_reviews.head()"
   ]
  },
  {
   "cell_type": "code",
   "execution_count": 21,
   "metadata": {
    "colab": {
     "base_uri": "https://localhost:8080/"
    },
    "id": "D3kOmufj7sEg",
    "outputId": "81ec56db-b264-454b-ef7a-0e36d4a5497b"
   },
   "outputs": [
    {
     "name": "stdout",
     "output_type": "stream",
     "text": [
      "<class 'pandas.core.frame.DataFrame'>\n",
      "RangeIndex: 99224 entries, 0 to 99223\n",
      "Data columns (total 7 columns):\n",
      " #   Column                   Non-Null Count  Dtype \n",
      "---  ------                   --------------  ----- \n",
      " 0   review_id                99224 non-null  object\n",
      " 1   order_id                 99224 non-null  object\n",
      " 2   review_score             99224 non-null  int64 \n",
      " 3   review_comment_title     11568 non-null  object\n",
      " 4   review_comment_message   40977 non-null  object\n",
      " 5   review_creation_date     99224 non-null  object\n",
      " 6   review_answer_timestamp  99224 non-null  object\n",
      "dtypes: int64(1), object(6)\n",
      "memory usage: 5.3+ MB\n"
     ]
    }
   ],
   "source": [
    "df_order_reviews.info()"
   ]
  },
  {
   "cell_type": "markdown",
   "metadata": {
    "id": "ikoNEgeY75oO"
   },
   "source": [
    "# 3-ordars dataset"
   ]
  },
  {
   "cell_type": "code",
   "execution_count": 22,
   "metadata": {
    "colab": {
     "base_uri": "https://localhost:8080/",
     "height": 226
    },
    "id": "GUO79oxSxmqv",
    "outputId": "35f42f5f-0dd0-45ee-cc7d-f57dcaff53c9"
   },
   "outputs": [
    {
     "name": "stderr",
     "output_type": "stream",
     "text": [
      "<>:1: SyntaxWarning: invalid escape sequence '\\o'\n",
      "<>:1: SyntaxWarning: invalid escape sequence '\\o'\n",
      "C:\\Users\\Amr Saber\\AppData\\Local\\Temp\\ipykernel_28988\\1682670088.py:1: SyntaxWarning: invalid escape sequence '\\o'\n",
      "  df_orders = pd.read_csv('archive (4)\\olist_orders_dataset.csv', encoding='latin-1')\n"
     ]
    },
    {
     "data": {
      "text/html": [
       "<div>\n",
       "<style scoped>\n",
       "    .dataframe tbody tr th:only-of-type {\n",
       "        vertical-align: middle;\n",
       "    }\n",
       "\n",
       "    .dataframe tbody tr th {\n",
       "        vertical-align: top;\n",
       "    }\n",
       "\n",
       "    .dataframe thead th {\n",
       "        text-align: right;\n",
       "    }\n",
       "</style>\n",
       "<table border=\"1\" class=\"dataframe\">\n",
       "  <thead>\n",
       "    <tr style=\"text-align: right;\">\n",
       "      <th></th>\n",
       "      <th>order_id</th>\n",
       "      <th>customer_id</th>\n",
       "      <th>order_status</th>\n",
       "      <th>order_purchase_timestamp</th>\n",
       "      <th>order_approved_at</th>\n",
       "      <th>order_delivered_carrier_date</th>\n",
       "      <th>order_delivered_customer_date</th>\n",
       "      <th>order_estimated_delivery_date</th>\n",
       "    </tr>\n",
       "  </thead>\n",
       "  <tbody>\n",
       "    <tr>\n",
       "      <th>0</th>\n",
       "      <td>e481f51cbdc54678b7cc49136f2d6af7</td>\n",
       "      <td>9ef432eb6251297304e76186b10a928d</td>\n",
       "      <td>delivered</td>\n",
       "      <td>2017-10-02 10:56:33</td>\n",
       "      <td>2017-10-02 11:07:15</td>\n",
       "      <td>2017-10-04 19:55:00</td>\n",
       "      <td>2017-10-10 21:25:13</td>\n",
       "      <td>2017-10-18 00:00:00</td>\n",
       "    </tr>\n",
       "    <tr>\n",
       "      <th>1</th>\n",
       "      <td>53cdb2fc8bc7dce0b6741e2150273451</td>\n",
       "      <td>b0830fb4747a6c6d20dea0b8c802d7ef</td>\n",
       "      <td>delivered</td>\n",
       "      <td>2018-07-24 20:41:37</td>\n",
       "      <td>2018-07-26 03:24:27</td>\n",
       "      <td>2018-07-26 14:31:00</td>\n",
       "      <td>2018-08-07 15:27:45</td>\n",
       "      <td>2018-08-13 00:00:00</td>\n",
       "    </tr>\n",
       "    <tr>\n",
       "      <th>2</th>\n",
       "      <td>47770eb9100c2d0c44946d9cf07ec65d</td>\n",
       "      <td>41ce2a54c0b03bf3443c3d931a367089</td>\n",
       "      <td>delivered</td>\n",
       "      <td>2018-08-08 08:38:49</td>\n",
       "      <td>2018-08-08 08:55:23</td>\n",
       "      <td>2018-08-08 13:50:00</td>\n",
       "      <td>2018-08-17 18:06:29</td>\n",
       "      <td>2018-09-04 00:00:00</td>\n",
       "    </tr>\n",
       "    <tr>\n",
       "      <th>3</th>\n",
       "      <td>949d5b44dbf5de918fe9c16f97b45f8a</td>\n",
       "      <td>f88197465ea7920adcdbec7375364d82</td>\n",
       "      <td>delivered</td>\n",
       "      <td>2017-11-18 19:28:06</td>\n",
       "      <td>2017-11-18 19:45:59</td>\n",
       "      <td>2017-11-22 13:39:59</td>\n",
       "      <td>2017-12-02 00:28:42</td>\n",
       "      <td>2017-12-15 00:00:00</td>\n",
       "    </tr>\n",
       "    <tr>\n",
       "      <th>4</th>\n",
       "      <td>ad21c59c0840e6cb83a9ceb5573f8159</td>\n",
       "      <td>8ab97904e6daea8866dbdbc4fb7aad2c</td>\n",
       "      <td>delivered</td>\n",
       "      <td>2018-02-13 21:18:39</td>\n",
       "      <td>2018-02-13 22:20:29</td>\n",
       "      <td>2018-02-14 19:46:34</td>\n",
       "      <td>2018-02-16 18:17:02</td>\n",
       "      <td>2018-02-26 00:00:00</td>\n",
       "    </tr>\n",
       "  </tbody>\n",
       "</table>\n",
       "</div>"
      ],
      "text/plain": [
       "                           order_id                       customer_id  \\\n",
       "0  e481f51cbdc54678b7cc49136f2d6af7  9ef432eb6251297304e76186b10a928d   \n",
       "1  53cdb2fc8bc7dce0b6741e2150273451  b0830fb4747a6c6d20dea0b8c802d7ef   \n",
       "2  47770eb9100c2d0c44946d9cf07ec65d  41ce2a54c0b03bf3443c3d931a367089   \n",
       "3  949d5b44dbf5de918fe9c16f97b45f8a  f88197465ea7920adcdbec7375364d82   \n",
       "4  ad21c59c0840e6cb83a9ceb5573f8159  8ab97904e6daea8866dbdbc4fb7aad2c   \n",
       "\n",
       "  order_status order_purchase_timestamp    order_approved_at  \\\n",
       "0    delivered      2017-10-02 10:56:33  2017-10-02 11:07:15   \n",
       "1    delivered      2018-07-24 20:41:37  2018-07-26 03:24:27   \n",
       "2    delivered      2018-08-08 08:38:49  2018-08-08 08:55:23   \n",
       "3    delivered      2017-11-18 19:28:06  2017-11-18 19:45:59   \n",
       "4    delivered      2018-02-13 21:18:39  2018-02-13 22:20:29   \n",
       "\n",
       "  order_delivered_carrier_date order_delivered_customer_date  \\\n",
       "0          2017-10-04 19:55:00           2017-10-10 21:25:13   \n",
       "1          2018-07-26 14:31:00           2018-08-07 15:27:45   \n",
       "2          2018-08-08 13:50:00           2018-08-17 18:06:29   \n",
       "3          2017-11-22 13:39:59           2017-12-02 00:28:42   \n",
       "4          2018-02-14 19:46:34           2018-02-16 18:17:02   \n",
       "\n",
       "  order_estimated_delivery_date  \n",
       "0           2017-10-18 00:00:00  \n",
       "1           2018-08-13 00:00:00  \n",
       "2           2018-09-04 00:00:00  \n",
       "3           2017-12-15 00:00:00  \n",
       "4           2018-02-26 00:00:00  "
      ]
     },
     "execution_count": 22,
     "metadata": {},
     "output_type": "execute_result"
    }
   ],
   "source": [
    "df_orders = pd.read_csv('archive (4)\\olist_orders_dataset.csv', encoding='latin-1')\n",
    "df_orders.head()"
   ]
  },
  {
   "cell_type": "code",
   "execution_count": 23,
   "metadata": {
    "colab": {
     "base_uri": "https://localhost:8080/"
    },
    "id": "dDIeHNrV8b9Z",
    "outputId": "dccd08aa-079f-4df8-f696-0616f88541af"
   },
   "outputs": [
    {
     "name": "stdout",
     "output_type": "stream",
     "text": [
      "<class 'pandas.core.frame.DataFrame'>\n",
      "RangeIndex: 99441 entries, 0 to 99440\n",
      "Data columns (total 8 columns):\n",
      " #   Column                         Non-Null Count  Dtype \n",
      "---  ------                         --------------  ----- \n",
      " 0   order_id                       99441 non-null  object\n",
      " 1   customer_id                    99441 non-null  object\n",
      " 2   order_status                   99441 non-null  object\n",
      " 3   order_purchase_timestamp       99441 non-null  object\n",
      " 4   order_approved_at              99281 non-null  object\n",
      " 5   order_delivered_carrier_date   97658 non-null  object\n",
      " 6   order_delivered_customer_date  96476 non-null  object\n",
      " 7   order_estimated_delivery_date  99441 non-null  object\n",
      "dtypes: object(8)\n",
      "memory usage: 6.1+ MB\n"
     ]
    }
   ],
   "source": [
    "df_orders.info()"
   ]
  },
  {
   "cell_type": "markdown",
   "metadata": {
    "id": "zEOs5uo7CLeE"
   },
   "source": [
    "# 4-merge between payments_dataset , reviews_dataset"
   ]
  },
  {
   "cell_type": "code",
   "execution_count": 24,
   "metadata": {
    "colab": {
     "base_uri": "https://localhost:8080/",
     "height": 261
    },
    "id": "c0qZzhJ5CeTL",
    "outputId": "7015a837-3d84-4c41-b24f-a22f2dead252"
   },
   "outputs": [
    {
     "data": {
      "text/html": [
       "<div>\n",
       "<style scoped>\n",
       "    .dataframe tbody tr th:only-of-type {\n",
       "        vertical-align: middle;\n",
       "    }\n",
       "\n",
       "    .dataframe tbody tr th {\n",
       "        vertical-align: top;\n",
       "    }\n",
       "\n",
       "    .dataframe thead th {\n",
       "        text-align: right;\n",
       "    }\n",
       "</style>\n",
       "<table border=\"1\" class=\"dataframe\">\n",
       "  <thead>\n",
       "    <tr style=\"text-align: right;\">\n",
       "      <th></th>\n",
       "      <th>order_id</th>\n",
       "      <th>payment_sequential</th>\n",
       "      <th>payment_type</th>\n",
       "      <th>payment_installments</th>\n",
       "      <th>payment_value</th>\n",
       "      <th>review_id</th>\n",
       "      <th>review_score</th>\n",
       "      <th>review_comment_title</th>\n",
       "      <th>review_comment_message</th>\n",
       "      <th>review_creation_date</th>\n",
       "      <th>review_answer_timestamp</th>\n",
       "    </tr>\n",
       "  </thead>\n",
       "  <tbody>\n",
       "    <tr>\n",
       "      <th>0</th>\n",
       "      <td>b81ef226f3fe1789b1e8b2acac839d17</td>\n",
       "      <td>1</td>\n",
       "      <td>credit_card</td>\n",
       "      <td>8</td>\n",
       "      <td>99.33</td>\n",
       "      <td>4ce650e117a5b292bf5ea980a61eb61e</td>\n",
       "      <td>1.0</td>\n",
       "      <td>NÃ£o recomendo</td>\n",
       "      <td>Produto com qualidade ruim, amassado e descasc...</td>\n",
       "      <td>2018-05-10 00:00:00</td>\n",
       "      <td>2018-05-15 23:38:00</td>\n",
       "    </tr>\n",
       "    <tr>\n",
       "      <th>1</th>\n",
       "      <td>a9810da82917af2d9aefd1278f1dcfa0</td>\n",
       "      <td>1</td>\n",
       "      <td>credit_card</td>\n",
       "      <td>1</td>\n",
       "      <td>24.39</td>\n",
       "      <td>ad2036caca61484fc435d7e673c020f2</td>\n",
       "      <td>5.0</td>\n",
       "      <td>NaN</td>\n",
       "      <td>NaN</td>\n",
       "      <td>2018-06-30 00:00:00</td>\n",
       "      <td>2018-07-03 11:23:16</td>\n",
       "    </tr>\n",
       "    <tr>\n",
       "      <th>2</th>\n",
       "      <td>25e8ea4e93396b6fa0d3dd708e76c1bd</td>\n",
       "      <td>1</td>\n",
       "      <td>credit_card</td>\n",
       "      <td>1</td>\n",
       "      <td>65.71</td>\n",
       "      <td>bcddfa0f7d2e54cfc74bae4f01b84d92</td>\n",
       "      <td>5.0</td>\n",
       "      <td>NaN</td>\n",
       "      <td>Aprovada</td>\n",
       "      <td>2017-12-19 00:00:00</td>\n",
       "      <td>2017-12-22 17:55:30</td>\n",
       "    </tr>\n",
       "    <tr>\n",
       "      <th>3</th>\n",
       "      <td>ba78997921bbcdc1373bb41e913ab953</td>\n",
       "      <td>1</td>\n",
       "      <td>credit_card</td>\n",
       "      <td>8</td>\n",
       "      <td>107.78</td>\n",
       "      <td>c37a0e51e5df82bdb55d38ff0ffb6af3</td>\n",
       "      <td>5.0</td>\n",
       "      <td>NaN</td>\n",
       "      <td>NaN</td>\n",
       "      <td>2017-12-21 00:00:00</td>\n",
       "      <td>2017-12-21 21:42:31</td>\n",
       "    </tr>\n",
       "    <tr>\n",
       "      <th>4</th>\n",
       "      <td>ba78997921bbcdc1373bb41e913ab953</td>\n",
       "      <td>1</td>\n",
       "      <td>credit_card</td>\n",
       "      <td>8</td>\n",
       "      <td>107.78</td>\n",
       "      <td>5bc7680443b4ef765fec11a8201eeb0c</td>\n",
       "      <td>5.0</td>\n",
       "      <td>NaN</td>\n",
       "      <td>NaN</td>\n",
       "      <td>2017-12-21 00:00:00</td>\n",
       "      <td>2017-12-22 01:10:39</td>\n",
       "    </tr>\n",
       "  </tbody>\n",
       "</table>\n",
       "</div>"
      ],
      "text/plain": [
       "                           order_id  payment_sequential payment_type  \\\n",
       "0  b81ef226f3fe1789b1e8b2acac839d17                   1  credit_card   \n",
       "1  a9810da82917af2d9aefd1278f1dcfa0                   1  credit_card   \n",
       "2  25e8ea4e93396b6fa0d3dd708e76c1bd                   1  credit_card   \n",
       "3  ba78997921bbcdc1373bb41e913ab953                   1  credit_card   \n",
       "4  ba78997921bbcdc1373bb41e913ab953                   1  credit_card   \n",
       "\n",
       "   payment_installments  payment_value                         review_id  \\\n",
       "0                     8          99.33  4ce650e117a5b292bf5ea980a61eb61e   \n",
       "1                     1          24.39  ad2036caca61484fc435d7e673c020f2   \n",
       "2                     1          65.71  bcddfa0f7d2e54cfc74bae4f01b84d92   \n",
       "3                     8         107.78  c37a0e51e5df82bdb55d38ff0ffb6af3   \n",
       "4                     8         107.78  5bc7680443b4ef765fec11a8201eeb0c   \n",
       "\n",
       "   review_score review_comment_title  \\\n",
       "0           1.0       NÃ£o recomendo   \n",
       "1           5.0                  NaN   \n",
       "2           5.0                  NaN   \n",
       "3           5.0                  NaN   \n",
       "4           5.0                  NaN   \n",
       "\n",
       "                              review_comment_message review_creation_date  \\\n",
       "0  Produto com qualidade ruim, amassado e descasc...  2018-05-10 00:00:00   \n",
       "1                                                NaN  2018-06-30 00:00:00   \n",
       "2                                           Aprovada  2017-12-19 00:00:00   \n",
       "3                                                NaN  2017-12-21 00:00:00   \n",
       "4                                                NaN  2017-12-21 00:00:00   \n",
       "\n",
       "  review_answer_timestamp  \n",
       "0     2018-05-15 23:38:00  \n",
       "1     2018-07-03 11:23:16  \n",
       "2     2017-12-22 17:55:30  \n",
       "3     2017-12-21 21:42:31  \n",
       "4     2017-12-22 01:10:39  "
      ]
     },
     "execution_count": 24,
     "metadata": {},
     "output_type": "execute_result"
    }
   ],
   "source": [
    "df_merge2= pd.merge(df_order_payments, df_order_reviews, on='order_id', how='left')\n",
    "df_merge2.head()"
   ]
  },
  {
   "cell_type": "code",
   "execution_count": 25,
   "metadata": {
    "colab": {
     "base_uri": "https://localhost:8080/"
    },
    "id": "OYocxs-_CoMX",
    "outputId": "8c735fbe-3dbe-4936-f12e-46661a9e50fb"
   },
   "outputs": [
    {
     "name": "stdout",
     "output_type": "stream",
     "text": [
      "<class 'pandas.core.frame.DataFrame'>\n",
      "RangeIndex: 104477 entries, 0 to 104476\n",
      "Data columns (total 11 columns):\n",
      " #   Column                   Non-Null Count   Dtype  \n",
      "---  ------                   --------------   -----  \n",
      " 0   order_id                 104477 non-null  object \n",
      " 1   payment_sequential       104477 non-null  int64  \n",
      " 2   payment_type             104477 non-null  object \n",
      " 3   payment_installments     104477 non-null  int64  \n",
      " 4   payment_value            104477 non-null  float64\n",
      " 5   review_id                103677 non-null  object \n",
      " 6   review_score             103677 non-null  float64\n",
      " 7   review_comment_title     11996 non-null   object \n",
      " 8   review_comment_message   42815 non-null   object \n",
      " 9   review_creation_date     103677 non-null  object \n",
      " 10  review_answer_timestamp  103677 non-null  object \n",
      "dtypes: float64(2), int64(2), object(7)\n",
      "memory usage: 8.8+ MB\n"
     ]
    }
   ],
   "source": [
    "df_merge2.info()"
   ]
  },
  {
   "cell_type": "markdown",
   "metadata": {
    "id": "k1QwlzjtCzLv"
   },
   "source": [
    "# 5- merge between merge2 and orders_dataset"
   ]
  },
  {
   "cell_type": "code",
   "execution_count": 26,
   "metadata": {
    "colab": {
     "base_uri": "https://localhost:8080/",
     "height": 261
    },
    "id": "zCcC9fDsCtzh",
    "outputId": "7929fb9b-46a4-4054-eb24-ee86e5bd54af"
   },
   "outputs": [
    {
     "data": {
      "text/html": [
       "<div>\n",
       "<style scoped>\n",
       "    .dataframe tbody tr th:only-of-type {\n",
       "        vertical-align: middle;\n",
       "    }\n",
       "\n",
       "    .dataframe tbody tr th {\n",
       "        vertical-align: top;\n",
       "    }\n",
       "\n",
       "    .dataframe thead th {\n",
       "        text-align: right;\n",
       "    }\n",
       "</style>\n",
       "<table border=\"1\" class=\"dataframe\">\n",
       "  <thead>\n",
       "    <tr style=\"text-align: right;\">\n",
       "      <th></th>\n",
       "      <th>order_id</th>\n",
       "      <th>payment_sequential</th>\n",
       "      <th>payment_type</th>\n",
       "      <th>payment_installments</th>\n",
       "      <th>payment_value</th>\n",
       "      <th>review_id</th>\n",
       "      <th>review_score</th>\n",
       "      <th>review_comment_title</th>\n",
       "      <th>review_comment_message</th>\n",
       "      <th>review_creation_date</th>\n",
       "      <th>review_answer_timestamp</th>\n",
       "      <th>customer_id</th>\n",
       "      <th>order_status</th>\n",
       "      <th>order_purchase_timestamp</th>\n",
       "      <th>order_approved_at</th>\n",
       "      <th>order_delivered_carrier_date</th>\n",
       "      <th>order_delivered_customer_date</th>\n",
       "      <th>order_estimated_delivery_date</th>\n",
       "    </tr>\n",
       "  </thead>\n",
       "  <tbody>\n",
       "    <tr>\n",
       "      <th>0</th>\n",
       "      <td>b81ef226f3fe1789b1e8b2acac839d17</td>\n",
       "      <td>1</td>\n",
       "      <td>credit_card</td>\n",
       "      <td>8</td>\n",
       "      <td>99.33</td>\n",
       "      <td>4ce650e117a5b292bf5ea980a61eb61e</td>\n",
       "      <td>1.0</td>\n",
       "      <td>NÃ£o recomendo</td>\n",
       "      <td>Produto com qualidade ruim, amassado e descasc...</td>\n",
       "      <td>2018-05-10 00:00:00</td>\n",
       "      <td>2018-05-15 23:38:00</td>\n",
       "      <td>0a8556ac6be836b46b3e89920d59291c</td>\n",
       "      <td>delivered</td>\n",
       "      <td>2018-04-25 22:01:49</td>\n",
       "      <td>2018-04-25 22:15:09</td>\n",
       "      <td>2018-05-02 15:20:00</td>\n",
       "      <td>2018-05-09 17:36:51</td>\n",
       "      <td>2018-05-22 00:00:00</td>\n",
       "    </tr>\n",
       "    <tr>\n",
       "      <th>1</th>\n",
       "      <td>a9810da82917af2d9aefd1278f1dcfa0</td>\n",
       "      <td>1</td>\n",
       "      <td>credit_card</td>\n",
       "      <td>1</td>\n",
       "      <td>24.39</td>\n",
       "      <td>ad2036caca61484fc435d7e673c020f2</td>\n",
       "      <td>5.0</td>\n",
       "      <td>NaN</td>\n",
       "      <td>NaN</td>\n",
       "      <td>2018-06-30 00:00:00</td>\n",
       "      <td>2018-07-03 11:23:16</td>\n",
       "      <td>f2c7fc58a9de810828715166c672f10a</td>\n",
       "      <td>delivered</td>\n",
       "      <td>2018-06-26 11:01:38</td>\n",
       "      <td>2018-06-26 11:18:58</td>\n",
       "      <td>2018-06-28 14:18:00</td>\n",
       "      <td>2018-06-29 20:32:09</td>\n",
       "      <td>2018-07-16 00:00:00</td>\n",
       "    </tr>\n",
       "    <tr>\n",
       "      <th>2</th>\n",
       "      <td>25e8ea4e93396b6fa0d3dd708e76c1bd</td>\n",
       "      <td>1</td>\n",
       "      <td>credit_card</td>\n",
       "      <td>1</td>\n",
       "      <td>65.71</td>\n",
       "      <td>bcddfa0f7d2e54cfc74bae4f01b84d92</td>\n",
       "      <td>5.0</td>\n",
       "      <td>NaN</td>\n",
       "      <td>Aprovada</td>\n",
       "      <td>2017-12-19 00:00:00</td>\n",
       "      <td>2017-12-22 17:55:30</td>\n",
       "      <td>25b14b69de0b6e184ae6fe2755e478f9</td>\n",
       "      <td>delivered</td>\n",
       "      <td>2017-12-12 11:19:55</td>\n",
       "      <td>2017-12-14 09:52:34</td>\n",
       "      <td>2017-12-15 20:13:22</td>\n",
       "      <td>2017-12-18 17:24:41</td>\n",
       "      <td>2018-01-04 00:00:00</td>\n",
       "    </tr>\n",
       "    <tr>\n",
       "      <th>3</th>\n",
       "      <td>ba78997921bbcdc1373bb41e913ab953</td>\n",
       "      <td>1</td>\n",
       "      <td>credit_card</td>\n",
       "      <td>8</td>\n",
       "      <td>107.78</td>\n",
       "      <td>c37a0e51e5df82bdb55d38ff0ffb6af3</td>\n",
       "      <td>5.0</td>\n",
       "      <td>NaN</td>\n",
       "      <td>NaN</td>\n",
       "      <td>2017-12-21 00:00:00</td>\n",
       "      <td>2017-12-21 21:42:31</td>\n",
       "      <td>7a5d8efaaa1081f800628c30d2b0728f</td>\n",
       "      <td>delivered</td>\n",
       "      <td>2017-12-06 12:04:06</td>\n",
       "      <td>2017-12-06 12:13:20</td>\n",
       "      <td>2017-12-07 20:28:28</td>\n",
       "      <td>2017-12-21 01:35:51</td>\n",
       "      <td>2018-01-04 00:00:00</td>\n",
       "    </tr>\n",
       "    <tr>\n",
       "      <th>4</th>\n",
       "      <td>ba78997921bbcdc1373bb41e913ab953</td>\n",
       "      <td>1</td>\n",
       "      <td>credit_card</td>\n",
       "      <td>8</td>\n",
       "      <td>107.78</td>\n",
       "      <td>5bc7680443b4ef765fec11a8201eeb0c</td>\n",
       "      <td>5.0</td>\n",
       "      <td>NaN</td>\n",
       "      <td>NaN</td>\n",
       "      <td>2017-12-21 00:00:00</td>\n",
       "      <td>2017-12-22 01:10:39</td>\n",
       "      <td>7a5d8efaaa1081f800628c30d2b0728f</td>\n",
       "      <td>delivered</td>\n",
       "      <td>2017-12-06 12:04:06</td>\n",
       "      <td>2017-12-06 12:13:20</td>\n",
       "      <td>2017-12-07 20:28:28</td>\n",
       "      <td>2017-12-21 01:35:51</td>\n",
       "      <td>2018-01-04 00:00:00</td>\n",
       "    </tr>\n",
       "  </tbody>\n",
       "</table>\n",
       "</div>"
      ],
      "text/plain": [
       "                           order_id  payment_sequential payment_type  \\\n",
       "0  b81ef226f3fe1789b1e8b2acac839d17                   1  credit_card   \n",
       "1  a9810da82917af2d9aefd1278f1dcfa0                   1  credit_card   \n",
       "2  25e8ea4e93396b6fa0d3dd708e76c1bd                   1  credit_card   \n",
       "3  ba78997921bbcdc1373bb41e913ab953                   1  credit_card   \n",
       "4  ba78997921bbcdc1373bb41e913ab953                   1  credit_card   \n",
       "\n",
       "   payment_installments  payment_value                         review_id  \\\n",
       "0                     8          99.33  4ce650e117a5b292bf5ea980a61eb61e   \n",
       "1                     1          24.39  ad2036caca61484fc435d7e673c020f2   \n",
       "2                     1          65.71  bcddfa0f7d2e54cfc74bae4f01b84d92   \n",
       "3                     8         107.78  c37a0e51e5df82bdb55d38ff0ffb6af3   \n",
       "4                     8         107.78  5bc7680443b4ef765fec11a8201eeb0c   \n",
       "\n",
       "   review_score review_comment_title  \\\n",
       "0           1.0       NÃ£o recomendo   \n",
       "1           5.0                  NaN   \n",
       "2           5.0                  NaN   \n",
       "3           5.0                  NaN   \n",
       "4           5.0                  NaN   \n",
       "\n",
       "                              review_comment_message review_creation_date  \\\n",
       "0  Produto com qualidade ruim, amassado e descasc...  2018-05-10 00:00:00   \n",
       "1                                                NaN  2018-06-30 00:00:00   \n",
       "2                                           Aprovada  2017-12-19 00:00:00   \n",
       "3                                                NaN  2017-12-21 00:00:00   \n",
       "4                                                NaN  2017-12-21 00:00:00   \n",
       "\n",
       "  review_answer_timestamp                       customer_id order_status  \\\n",
       "0     2018-05-15 23:38:00  0a8556ac6be836b46b3e89920d59291c    delivered   \n",
       "1     2018-07-03 11:23:16  f2c7fc58a9de810828715166c672f10a    delivered   \n",
       "2     2017-12-22 17:55:30  25b14b69de0b6e184ae6fe2755e478f9    delivered   \n",
       "3     2017-12-21 21:42:31  7a5d8efaaa1081f800628c30d2b0728f    delivered   \n",
       "4     2017-12-22 01:10:39  7a5d8efaaa1081f800628c30d2b0728f    delivered   \n",
       "\n",
       "  order_purchase_timestamp    order_approved_at order_delivered_carrier_date  \\\n",
       "0      2018-04-25 22:01:49  2018-04-25 22:15:09          2018-05-02 15:20:00   \n",
       "1      2018-06-26 11:01:38  2018-06-26 11:18:58          2018-06-28 14:18:00   \n",
       "2      2017-12-12 11:19:55  2017-12-14 09:52:34          2017-12-15 20:13:22   \n",
       "3      2017-12-06 12:04:06  2017-12-06 12:13:20          2017-12-07 20:28:28   \n",
       "4      2017-12-06 12:04:06  2017-12-06 12:13:20          2017-12-07 20:28:28   \n",
       "\n",
       "  order_delivered_customer_date order_estimated_delivery_date  \n",
       "0           2018-05-09 17:36:51           2018-05-22 00:00:00  \n",
       "1           2018-06-29 20:32:09           2018-07-16 00:00:00  \n",
       "2           2017-12-18 17:24:41           2018-01-04 00:00:00  \n",
       "3           2017-12-21 01:35:51           2018-01-04 00:00:00  \n",
       "4           2017-12-21 01:35:51           2018-01-04 00:00:00  "
      ]
     },
     "execution_count": 26,
     "metadata": {},
     "output_type": "execute_result"
    }
   ],
   "source": [
    "df_merge3= pd.merge(df_merge2, df_orders, on='order_id', how='left')\n",
    "df_merge3.head()"
   ]
  },
  {
   "cell_type": "code",
   "execution_count": 27,
   "metadata": {
    "colab": {
     "base_uri": "https://localhost:8080/"
    },
    "id": "8qIYN1pTC_nS",
    "outputId": "3c565ec8-05d0-4926-e1a1-9b2b5e9f3de9"
   },
   "outputs": [
    {
     "name": "stdout",
     "output_type": "stream",
     "text": [
      "<class 'pandas.core.frame.DataFrame'>\n",
      "RangeIndex: 104477 entries, 0 to 104476\n",
      "Data columns (total 18 columns):\n",
      " #   Column                         Non-Null Count   Dtype  \n",
      "---  ------                         --------------   -----  \n",
      " 0   order_id                       104477 non-null  object \n",
      " 1   payment_sequential             104477 non-null  int64  \n",
      " 2   payment_type                   104477 non-null  object \n",
      " 3   payment_installments           104477 non-null  int64  \n",
      " 4   payment_value                  104477 non-null  float64\n",
      " 5   review_id                      103677 non-null  object \n",
      " 6   review_score                   103677 non-null  float64\n",
      " 7   review_comment_title           11996 non-null   object \n",
      " 8   review_comment_message         42815 non-null   object \n",
      " 9   review_creation_date           103677 non-null  object \n",
      " 10  review_answer_timestamp        103677 non-null  object \n",
      " 11  customer_id                    104477 non-null  object \n",
      " 12  order_status                   104477 non-null  object \n",
      " 13  order_purchase_timestamp       104477 non-null  object \n",
      " 14  order_approved_at              104301 non-null  object \n",
      " 15  order_delivered_carrier_date   102579 non-null  object \n",
      " 16  order_delivered_customer_date  101323 non-null  object \n",
      " 17  order_estimated_delivery_date  104477 non-null  object \n",
      "dtypes: float64(2), int64(2), object(14)\n",
      "memory usage: 14.3+ MB\n"
     ]
    }
   ],
   "source": [
    "df_merge3.info()"
   ]
  },
  {
   "cell_type": "markdown",
   "metadata": {},
   "source": [
    "# C- sellers data"
   ]
  },
  {
   "cell_type": "markdown",
   "metadata": {
    "id": "OG5MQnGnLK-R"
   },
   "source": [
    "# 1-sellars dataset and merges"
   ]
  },
  {
   "cell_type": "code",
   "execution_count": 28,
   "metadata": {
    "colab": {
     "base_uri": "https://localhost:8080/",
     "height": 243
    },
    "id": "rUVVn9BKxzfH",
    "outputId": "4692b9e9-f5b7-4d12-ce2e-91dbd0bd7c46"
   },
   "outputs": [
    {
     "name": "stderr",
     "output_type": "stream",
     "text": [
      "<>:1: SyntaxWarning: invalid escape sequence '\\o'\n",
      "<>:1: SyntaxWarning: invalid escape sequence '\\o'\n",
      "C:\\Users\\Amr Saber\\AppData\\Local\\Temp\\ipykernel_28988\\3386080552.py:1: SyntaxWarning: invalid escape sequence '\\o'\n",
      "  df_sellers = pd.read_csv('archive (4)\\olist_sellers_dataset.csv', encoding='latin-1')\n"
     ]
    },
    {
     "data": {
      "text/html": [
       "<div>\n",
       "<style scoped>\n",
       "    .dataframe tbody tr th:only-of-type {\n",
       "        vertical-align: middle;\n",
       "    }\n",
       "\n",
       "    .dataframe tbody tr th {\n",
       "        vertical-align: top;\n",
       "    }\n",
       "\n",
       "    .dataframe thead th {\n",
       "        text-align: right;\n",
       "    }\n",
       "</style>\n",
       "<table border=\"1\" class=\"dataframe\">\n",
       "  <thead>\n",
       "    <tr style=\"text-align: right;\">\n",
       "      <th></th>\n",
       "      <th>seller_id</th>\n",
       "      <th>seller_zip_code_prefix</th>\n",
       "      <th>seller_city</th>\n",
       "      <th>seller_state</th>\n",
       "    </tr>\n",
       "  </thead>\n",
       "  <tbody>\n",
       "    <tr>\n",
       "      <th>0</th>\n",
       "      <td>3442f8959a84dea7ee197c632cb2df15</td>\n",
       "      <td>13023</td>\n",
       "      <td>campinas</td>\n",
       "      <td>SP</td>\n",
       "    </tr>\n",
       "    <tr>\n",
       "      <th>1</th>\n",
       "      <td>d1b65fc7debc3361ea86b5f14c68d2e2</td>\n",
       "      <td>13844</td>\n",
       "      <td>mogi guacu</td>\n",
       "      <td>SP</td>\n",
       "    </tr>\n",
       "    <tr>\n",
       "      <th>2</th>\n",
       "      <td>ce3ad9de960102d0677a81f5d0bb7b2d</td>\n",
       "      <td>20031</td>\n",
       "      <td>rio de janeiro</td>\n",
       "      <td>RJ</td>\n",
       "    </tr>\n",
       "    <tr>\n",
       "      <th>3</th>\n",
       "      <td>c0f3eea2e14555b6faeea3dd58c1b1c3</td>\n",
       "      <td>4195</td>\n",
       "      <td>sao paulo</td>\n",
       "      <td>SP</td>\n",
       "    </tr>\n",
       "    <tr>\n",
       "      <th>4</th>\n",
       "      <td>51a04a8a6bdcb23deccc82b0b80742cf</td>\n",
       "      <td>12914</td>\n",
       "      <td>braganca paulista</td>\n",
       "      <td>SP</td>\n",
       "    </tr>\n",
       "  </tbody>\n",
       "</table>\n",
       "</div>"
      ],
      "text/plain": [
       "                          seller_id  seller_zip_code_prefix  \\\n",
       "0  3442f8959a84dea7ee197c632cb2df15                   13023   \n",
       "1  d1b65fc7debc3361ea86b5f14c68d2e2                   13844   \n",
       "2  ce3ad9de960102d0677a81f5d0bb7b2d                   20031   \n",
       "3  c0f3eea2e14555b6faeea3dd58c1b1c3                    4195   \n",
       "4  51a04a8a6bdcb23deccc82b0b80742cf                   12914   \n",
       "\n",
       "         seller_city seller_state  \n",
       "0           campinas           SP  \n",
       "1         mogi guacu           SP  \n",
       "2     rio de janeiro           RJ  \n",
       "3          sao paulo           SP  \n",
       "4  braganca paulista           SP  "
      ]
     },
     "execution_count": 28,
     "metadata": {},
     "output_type": "execute_result"
    }
   ],
   "source": [
    "df_sellers = pd.read_csv('archive (4)\\olist_sellers_dataset.csv', encoding='latin-1')\n",
    "df_sellers.head()"
   ]
  },
  {
   "cell_type": "code",
   "execution_count": 29,
   "metadata": {
    "colab": {
     "base_uri": "https://localhost:8080/"
    },
    "id": "wiBhluE7UiZA",
    "outputId": "73d2c1e6-6246-42f9-bca1-929ed4adae88"
   },
   "outputs": [
    {
     "name": "stdout",
     "output_type": "stream",
     "text": [
      "Columns in df_gelocation: Index(['customer_zip_code_prefix', 'geolocation_lat', 'geolocation_lng',\n",
      "       'geolocation_city', 'geolocation_state'],\n",
      "      dtype='object')\n"
     ]
    }
   ],
   "source": [
    "print(\"Columns in df_gelocation:\", df_gelocation.columns)"
   ]
  },
  {
   "cell_type": "code",
   "execution_count": 30,
   "metadata": {
    "colab": {
     "base_uri": "https://localhost:8080/",
     "height": 226
    },
    "id": "yfzVv-9_Jjp1",
    "outputId": "8271dc0d-c666-4a02-9f6d-ed3a4b5e4866"
   },
   "outputs": [
    {
     "data": {
      "text/html": [
       "<div>\n",
       "<style scoped>\n",
       "    .dataframe tbody tr th:only-of-type {\n",
       "        vertical-align: middle;\n",
       "    }\n",
       "\n",
       "    .dataframe tbody tr th {\n",
       "        vertical-align: top;\n",
       "    }\n",
       "\n",
       "    .dataframe thead th {\n",
       "        text-align: right;\n",
       "    }\n",
       "</style>\n",
       "<table border=\"1\" class=\"dataframe\">\n",
       "  <thead>\n",
       "    <tr style=\"text-align: right;\">\n",
       "      <th></th>\n",
       "      <th>seller_id</th>\n",
       "      <th>seller_zip_code_prefix</th>\n",
       "      <th>seller_city</th>\n",
       "      <th>seller_state</th>\n",
       "      <th>geolocation_lat</th>\n",
       "      <th>geolocation_lng</th>\n",
       "      <th>geolocation_city</th>\n",
       "      <th>geolocation_state</th>\n",
       "    </tr>\n",
       "  </thead>\n",
       "  <tbody>\n",
       "    <tr>\n",
       "      <th>0</th>\n",
       "      <td>3442f8959a84dea7ee197c632cb2df15</td>\n",
       "      <td>13023</td>\n",
       "      <td>campinas</td>\n",
       "      <td>SP</td>\n",
       "      <td>-22.898536</td>\n",
       "      <td>-47.063125</td>\n",
       "      <td>campinas</td>\n",
       "      <td>SP</td>\n",
       "    </tr>\n",
       "    <tr>\n",
       "      <th>1</th>\n",
       "      <td>3442f8959a84dea7ee197c632cb2df15</td>\n",
       "      <td>13023</td>\n",
       "      <td>campinas</td>\n",
       "      <td>SP</td>\n",
       "      <td>-22.895499</td>\n",
       "      <td>-47.061944</td>\n",
       "      <td>campinas</td>\n",
       "      <td>SP</td>\n",
       "    </tr>\n",
       "    <tr>\n",
       "      <th>2</th>\n",
       "      <td>3442f8959a84dea7ee197c632cb2df15</td>\n",
       "      <td>13023</td>\n",
       "      <td>campinas</td>\n",
       "      <td>SP</td>\n",
       "      <td>-22.891740</td>\n",
       "      <td>-47.060820</td>\n",
       "      <td>campinas</td>\n",
       "      <td>SP</td>\n",
       "    </tr>\n",
       "    <tr>\n",
       "      <th>3</th>\n",
       "      <td>3442f8959a84dea7ee197c632cb2df15</td>\n",
       "      <td>13023</td>\n",
       "      <td>campinas</td>\n",
       "      <td>SP</td>\n",
       "      <td>-22.895762</td>\n",
       "      <td>-47.066144</td>\n",
       "      <td>campinas</td>\n",
       "      <td>SP</td>\n",
       "    </tr>\n",
       "    <tr>\n",
       "      <th>4</th>\n",
       "      <td>3442f8959a84dea7ee197c632cb2df15</td>\n",
       "      <td>13023</td>\n",
       "      <td>campinas</td>\n",
       "      <td>SP</td>\n",
       "      <td>-22.896154</td>\n",
       "      <td>-47.062431</td>\n",
       "      <td>campinas</td>\n",
       "      <td>SP</td>\n",
       "    </tr>\n",
       "  </tbody>\n",
       "</table>\n",
       "</div>"
      ],
      "text/plain": [
       "                          seller_id  seller_zip_code_prefix seller_city  \\\n",
       "0  3442f8959a84dea7ee197c632cb2df15                   13023    campinas   \n",
       "1  3442f8959a84dea7ee197c632cb2df15                   13023    campinas   \n",
       "2  3442f8959a84dea7ee197c632cb2df15                   13023    campinas   \n",
       "3  3442f8959a84dea7ee197c632cb2df15                   13023    campinas   \n",
       "4  3442f8959a84dea7ee197c632cb2df15                   13023    campinas   \n",
       "\n",
       "  seller_state  geolocation_lat  geolocation_lng geolocation_city  \\\n",
       "0           SP       -22.898536       -47.063125         campinas   \n",
       "1           SP       -22.895499       -47.061944         campinas   \n",
       "2           SP       -22.891740       -47.060820         campinas   \n",
       "3           SP       -22.895762       -47.066144         campinas   \n",
       "4           SP       -22.896154       -47.062431         campinas   \n",
       "\n",
       "  geolocation_state  \n",
       "0                SP  \n",
       "1                SP  \n",
       "2                SP  \n",
       "3                SP  \n",
       "4                SP  "
      ]
     },
     "execution_count": 30,
     "metadata": {},
     "output_type": "execute_result"
    }
   ],
   "source": [
    "# Make sure to execute this code in the same cell or before the merge operation\n",
    "df_gelocation.rename(columns={'customer_zip_code_prefix':'seller_zip_code_prefix'},inplace=True)\n",
    "\n",
    "# Now perform the merge\n",
    "df_merge5 = pd.merge(df_sellers, df_gelocation, on='seller_zip_code_prefix', how='left')\n",
    "df_merge5.head()"
   ]
  },
  {
   "cell_type": "code",
   "execution_count": 31,
   "metadata": {
    "id": "SB5FVVQlKP4E"
   },
   "outputs": [],
   "source": [
    "df_merge5.rename(columns={'geolocation_lat':'seller_geolocation_lat'},inplace=True)\n",
    "df_merge5.rename(columns={'geolocation_lng':'seller_geolocation_lng'},inplace=True)"
   ]
  },
  {
   "cell_type": "code",
   "execution_count": 32,
   "metadata": {
    "id": "f3zsVTH-Kttv"
   },
   "outputs": [],
   "source": [
    "df_merge5.drop(columns=['geolocation_city','geolocation_state'],inplace=True) # Correct typo: 'colums' to 'columns'"
   ]
  },
  {
   "cell_type": "code",
   "execution_count": 33,
   "metadata": {
    "colab": {
     "base_uri": "https://localhost:8080/"
    },
    "id": "G86W3j3jKxdy",
    "outputId": "630af259-f5ab-45ff-df7b-79c87840fe26"
   },
   "outputs": [
    {
     "name": "stdout",
     "output_type": "stream",
     "text": [
      "<class 'pandas.core.frame.DataFrame'>\n",
      "RangeIndex: 311796 entries, 0 to 311795\n",
      "Data columns (total 6 columns):\n",
      " #   Column                  Non-Null Count   Dtype  \n",
      "---  ------                  --------------   -----  \n",
      " 0   seller_id               311796 non-null  object \n",
      " 1   seller_zip_code_prefix  311796 non-null  int64  \n",
      " 2   seller_city             311796 non-null  object \n",
      " 3   seller_state            311796 non-null  object \n",
      " 4   seller_geolocation_lat  311789 non-null  float64\n",
      " 5   seller_geolocation_lng  311789 non-null  float64\n",
      "dtypes: float64(2), int64(1), object(3)\n",
      "memory usage: 14.3+ MB\n"
     ]
    }
   ],
   "source": [
    "df_merge5.info()"
   ]
  },
  {
   "cell_type": "code",
   "execution_count": 34,
   "metadata": {},
   "outputs": [],
   "source": [
    "#df_merge5.to_csv('sellers data.csv', index=False)"
   ]
  },
  {
   "cell_type": "markdown",
   "metadata": {},
   "source": [
    "# d- Product data"
   ]
  },
  {
   "cell_type": "markdown",
   "metadata": {
    "id": "v69t9RC6DsGn"
   },
   "source": [
    "# 1-products_dataset"
   ]
  },
  {
   "cell_type": "code",
   "execution_count": 35,
   "metadata": {
    "colab": {
     "base_uri": "https://localhost:8080/",
     "height": 226
    },
    "id": "tWal5_gaxtSO",
    "outputId": "cdfc6ce5-88ec-4b9b-8aa7-9f8e06c225b8"
   },
   "outputs": [
    {
     "name": "stderr",
     "output_type": "stream",
     "text": [
      "<>:1: SyntaxWarning: invalid escape sequence '\\o'\n",
      "<>:1: SyntaxWarning: invalid escape sequence '\\o'\n",
      "C:\\Users\\Amr Saber\\AppData\\Local\\Temp\\ipykernel_28988\\3973013195.py:1: SyntaxWarning: invalid escape sequence '\\o'\n",
      "  df_products = pd.read_csv('archive (4)\\olist_products_dataset.csv', encoding='latin-1')\n"
     ]
    },
    {
     "data": {
      "text/html": [
       "<div>\n",
       "<style scoped>\n",
       "    .dataframe tbody tr th:only-of-type {\n",
       "        vertical-align: middle;\n",
       "    }\n",
       "\n",
       "    .dataframe tbody tr th {\n",
       "        vertical-align: top;\n",
       "    }\n",
       "\n",
       "    .dataframe thead th {\n",
       "        text-align: right;\n",
       "    }\n",
       "</style>\n",
       "<table border=\"1\" class=\"dataframe\">\n",
       "  <thead>\n",
       "    <tr style=\"text-align: right;\">\n",
       "      <th></th>\n",
       "      <th>product_id</th>\n",
       "      <th>product_category_name</th>\n",
       "      <th>product_name_lenght</th>\n",
       "      <th>product_description_lenght</th>\n",
       "      <th>product_photos_qty</th>\n",
       "      <th>product_weight_g</th>\n",
       "      <th>product_length_cm</th>\n",
       "      <th>product_height_cm</th>\n",
       "      <th>product_width_cm</th>\n",
       "    </tr>\n",
       "  </thead>\n",
       "  <tbody>\n",
       "    <tr>\n",
       "      <th>0</th>\n",
       "      <td>1e9e8ef04dbcff4541ed26657ea517e5</td>\n",
       "      <td>perfumaria</td>\n",
       "      <td>40.0</td>\n",
       "      <td>287.0</td>\n",
       "      <td>1.0</td>\n",
       "      <td>225.0</td>\n",
       "      <td>16.0</td>\n",
       "      <td>10.0</td>\n",
       "      <td>14.0</td>\n",
       "    </tr>\n",
       "    <tr>\n",
       "      <th>1</th>\n",
       "      <td>3aa071139cb16b67ca9e5dea641aaa2f</td>\n",
       "      <td>artes</td>\n",
       "      <td>44.0</td>\n",
       "      <td>276.0</td>\n",
       "      <td>1.0</td>\n",
       "      <td>1000.0</td>\n",
       "      <td>30.0</td>\n",
       "      <td>18.0</td>\n",
       "      <td>20.0</td>\n",
       "    </tr>\n",
       "    <tr>\n",
       "      <th>2</th>\n",
       "      <td>96bd76ec8810374ed1b65e291975717f</td>\n",
       "      <td>esporte_lazer</td>\n",
       "      <td>46.0</td>\n",
       "      <td>250.0</td>\n",
       "      <td>1.0</td>\n",
       "      <td>154.0</td>\n",
       "      <td>18.0</td>\n",
       "      <td>9.0</td>\n",
       "      <td>15.0</td>\n",
       "    </tr>\n",
       "    <tr>\n",
       "      <th>3</th>\n",
       "      <td>cef67bcfe19066a932b7673e239eb23d</td>\n",
       "      <td>bebes</td>\n",
       "      <td>27.0</td>\n",
       "      <td>261.0</td>\n",
       "      <td>1.0</td>\n",
       "      <td>371.0</td>\n",
       "      <td>26.0</td>\n",
       "      <td>4.0</td>\n",
       "      <td>26.0</td>\n",
       "    </tr>\n",
       "    <tr>\n",
       "      <th>4</th>\n",
       "      <td>9dc1a7de274444849c219cff195d0b71</td>\n",
       "      <td>utilidades_domesticas</td>\n",
       "      <td>37.0</td>\n",
       "      <td>402.0</td>\n",
       "      <td>4.0</td>\n",
       "      <td>625.0</td>\n",
       "      <td>20.0</td>\n",
       "      <td>17.0</td>\n",
       "      <td>13.0</td>\n",
       "    </tr>\n",
       "  </tbody>\n",
       "</table>\n",
       "</div>"
      ],
      "text/plain": [
       "                         product_id  product_category_name  \\\n",
       "0  1e9e8ef04dbcff4541ed26657ea517e5             perfumaria   \n",
       "1  3aa071139cb16b67ca9e5dea641aaa2f                  artes   \n",
       "2  96bd76ec8810374ed1b65e291975717f          esporte_lazer   \n",
       "3  cef67bcfe19066a932b7673e239eb23d                  bebes   \n",
       "4  9dc1a7de274444849c219cff195d0b71  utilidades_domesticas   \n",
       "\n",
       "   product_name_lenght  product_description_lenght  product_photos_qty  \\\n",
       "0                 40.0                       287.0                 1.0   \n",
       "1                 44.0                       276.0                 1.0   \n",
       "2                 46.0                       250.0                 1.0   \n",
       "3                 27.0                       261.0                 1.0   \n",
       "4                 37.0                       402.0                 4.0   \n",
       "\n",
       "   product_weight_g  product_length_cm  product_height_cm  product_width_cm  \n",
       "0             225.0               16.0               10.0              14.0  \n",
       "1            1000.0               30.0               18.0              20.0  \n",
       "2             154.0               18.0                9.0              15.0  \n",
       "3             371.0               26.0                4.0              26.0  \n",
       "4             625.0               20.0               17.0              13.0  "
      ]
     },
     "execution_count": 35,
     "metadata": {},
     "output_type": "execute_result"
    }
   ],
   "source": [
    "df_products = pd.read_csv('archive (4)\\olist_products_dataset.csv', encoding='latin-1')\n",
    "df_products.head()"
   ]
  },
  {
   "cell_type": "code",
   "execution_count": 36,
   "metadata": {
    "colab": {
     "base_uri": "https://localhost:8080/"
    },
    "id": "VOh-GcZKD-qW",
    "outputId": "c41444fe-e997-4bc5-c01b-67dd6dfc3ad3"
   },
   "outputs": [
    {
     "name": "stdout",
     "output_type": "stream",
     "text": [
      "<class 'pandas.core.frame.DataFrame'>\n",
      "RangeIndex: 32951 entries, 0 to 32950\n",
      "Data columns (total 9 columns):\n",
      " #   Column                      Non-Null Count  Dtype  \n",
      "---  ------                      --------------  -----  \n",
      " 0   product_id                  32951 non-null  object \n",
      " 1   product_category_name       32341 non-null  object \n",
      " 2   product_name_lenght         32341 non-null  float64\n",
      " 3   product_description_lenght  32341 non-null  float64\n",
      " 4   product_photos_qty          32341 non-null  float64\n",
      " 5   product_weight_g            32949 non-null  float64\n",
      " 6   product_length_cm           32949 non-null  float64\n",
      " 7   product_height_cm           32949 non-null  float64\n",
      " 8   product_width_cm            32949 non-null  float64\n",
      "dtypes: float64(7), object(2)\n",
      "memory usage: 2.3+ MB\n"
     ]
    }
   ],
   "source": [
    "df_products.info()"
   ]
  },
  {
   "cell_type": "markdown",
   "metadata": {
    "id": "jgvix6H1MBOz"
   },
   "source": [
    "# 2-product category"
   ]
  },
  {
   "cell_type": "code",
   "execution_count": 37,
   "metadata": {
    "colab": {
     "base_uri": "https://localhost:8080/",
     "height": 206
    },
    "id": "OzNTlsvsx5LJ",
    "outputId": "04b011ab-76c7-4974-9610-15f8be85572a"
   },
   "outputs": [
    {
     "name": "stderr",
     "output_type": "stream",
     "text": [
      "<>:1: SyntaxWarning: invalid escape sequence '\\p'\n",
      "<>:1: SyntaxWarning: invalid escape sequence '\\p'\n",
      "C:\\Users\\Amr Saber\\AppData\\Local\\Temp\\ipykernel_28988\\2598564833.py:1: SyntaxWarning: invalid escape sequence '\\p'\n",
      "  df_product_category = pd.read_csv('archive (4)\\product_category_name_translation.csv', encoding='latin-1')\n"
     ]
    },
    {
     "data": {
      "text/html": [
       "<div>\n",
       "<style scoped>\n",
       "    .dataframe tbody tr th:only-of-type {\n",
       "        vertical-align: middle;\n",
       "    }\n",
       "\n",
       "    .dataframe tbody tr th {\n",
       "        vertical-align: top;\n",
       "    }\n",
       "\n",
       "    .dataframe thead th {\n",
       "        text-align: right;\n",
       "    }\n",
       "</style>\n",
       "<table border=\"1\" class=\"dataframe\">\n",
       "  <thead>\n",
       "    <tr style=\"text-align: right;\">\n",
       "      <th></th>\n",
       "      <th>ï»¿product_category_name</th>\n",
       "      <th>product_category_name_english</th>\n",
       "    </tr>\n",
       "  </thead>\n",
       "  <tbody>\n",
       "    <tr>\n",
       "      <th>0</th>\n",
       "      <td>beleza_saude</td>\n",
       "      <td>health_beauty</td>\n",
       "    </tr>\n",
       "    <tr>\n",
       "      <th>1</th>\n",
       "      <td>informatica_acessorios</td>\n",
       "      <td>computers_accessories</td>\n",
       "    </tr>\n",
       "    <tr>\n",
       "      <th>2</th>\n",
       "      <td>automotivo</td>\n",
       "      <td>auto</td>\n",
       "    </tr>\n",
       "    <tr>\n",
       "      <th>3</th>\n",
       "      <td>cama_mesa_banho</td>\n",
       "      <td>bed_bath_table</td>\n",
       "    </tr>\n",
       "    <tr>\n",
       "      <th>4</th>\n",
       "      <td>moveis_decoracao</td>\n",
       "      <td>furniture_decor</td>\n",
       "    </tr>\n",
       "  </tbody>\n",
       "</table>\n",
       "</div>"
      ],
      "text/plain": [
       "  ï»¿product_category_name product_category_name_english\n",
       "0             beleza_saude                 health_beauty\n",
       "1   informatica_acessorios         computers_accessories\n",
       "2               automotivo                          auto\n",
       "3          cama_mesa_banho                bed_bath_table\n",
       "4         moveis_decoracao               furniture_decor"
      ]
     },
     "execution_count": 37,
     "metadata": {},
     "output_type": "execute_result"
    }
   ],
   "source": [
    "df_product_category = pd.read_csv('archive (4)\\product_category_name_translation.csv', encoding='latin-1')\n",
    "df_product_category.head()"
   ]
  },
  {
   "cell_type": "code",
   "execution_count": 38,
   "metadata": {
    "colab": {
     "base_uri": "https://localhost:8080/"
    },
    "id": "hF0IehgZLems",
    "outputId": "b1ed1c22-61bd-4113-b2cb-8acfd1751ed7"
   },
   "outputs": [
    {
     "name": "stdout",
     "output_type": "stream",
     "text": [
      "<class 'pandas.core.frame.DataFrame'>\n",
      "RangeIndex: 71 entries, 0 to 70\n",
      "Data columns (total 2 columns):\n",
      " #   Column                         Non-Null Count  Dtype \n",
      "---  ------                         --------------  ----- \n",
      " 0   ï»¿product_category_name       71 non-null     object\n",
      " 1   product_category_name_english  71 non-null     object\n",
      "dtypes: object(2)\n",
      "memory usage: 1.2+ KB\n"
     ]
    }
   ],
   "source": [
    "df_product_category.info()"
   ]
  },
  {
   "cell_type": "markdown",
   "metadata": {
    "id": "cwht54Q0NrB4"
   },
   "source": [
    "# 3- merge between product category and products_dataset"
   ]
  },
  {
   "cell_type": "code",
   "execution_count": 39,
   "metadata": {
    "colab": {
     "base_uri": "https://localhost:8080/"
    },
    "id": "Yhl-hqzhMcIF",
    "outputId": "c42e3581-6c7c-4b6e-e366-ca40f53a6f16"
   },
   "outputs": [
    {
     "name": "stdout",
     "output_type": "stream",
     "text": [
      "Columns in df_products: Index(['product_id', 'product_category_name', 'product_name_lenght',\n",
      "       'product_description_lenght', 'product_photos_qty', 'product_weight_g',\n",
      "       'product_length_cm', 'product_height_cm', 'product_width_cm'],\n",
      "      dtype='object')\n",
      "Columns in df_product_category: Index(['ï»¿product_category_name', 'product_category_name_english'], dtype='object')\n"
     ]
    }
   ],
   "source": [
    "print(\"Columns in df_products:\", df_products.columns)\n",
    "print(\"Columns in df_product_category:\", df_product_category.columns)\n"
   ]
  },
  {
   "cell_type": "markdown",
   "metadata": {
    "id": "gTgHSsgPMKXf"
   },
   "source": [
    "merge between df_product_category and df_products"
   ]
  },
  {
   "cell_type": "code",
   "execution_count": 40,
   "metadata": {
    "id": "VmzQI49NMqGe"
   },
   "outputs": [],
   "source": [
    "df_product_category.rename(columns={'ï»¿product_category_name':'product_category_name'},inplace=True)"
   ]
  },
  {
   "cell_type": "code",
   "execution_count": 41,
   "metadata": {
    "colab": {
     "base_uri": "https://localhost:8080/",
     "height": 226
    },
    "id": "_RCDX-OTLwp3",
    "outputId": "25a53ce5-ad19-41f5-f2f5-71631ac62fba"
   },
   "outputs": [
    {
     "data": {
      "text/html": [
       "<div>\n",
       "<style scoped>\n",
       "    .dataframe tbody tr th:only-of-type {\n",
       "        vertical-align: middle;\n",
       "    }\n",
       "\n",
       "    .dataframe tbody tr th {\n",
       "        vertical-align: top;\n",
       "    }\n",
       "\n",
       "    .dataframe thead th {\n",
       "        text-align: right;\n",
       "    }\n",
       "</style>\n",
       "<table border=\"1\" class=\"dataframe\">\n",
       "  <thead>\n",
       "    <tr style=\"text-align: right;\">\n",
       "      <th></th>\n",
       "      <th>product_id</th>\n",
       "      <th>product_category_name</th>\n",
       "      <th>product_name_lenght</th>\n",
       "      <th>product_description_lenght</th>\n",
       "      <th>product_photos_qty</th>\n",
       "      <th>product_weight_g</th>\n",
       "      <th>product_length_cm</th>\n",
       "      <th>product_height_cm</th>\n",
       "      <th>product_width_cm</th>\n",
       "      <th>product_category_name_english</th>\n",
       "    </tr>\n",
       "  </thead>\n",
       "  <tbody>\n",
       "    <tr>\n",
       "      <th>0</th>\n",
       "      <td>1e9e8ef04dbcff4541ed26657ea517e5</td>\n",
       "      <td>perfumaria</td>\n",
       "      <td>40.0</td>\n",
       "      <td>287.0</td>\n",
       "      <td>1.0</td>\n",
       "      <td>225.0</td>\n",
       "      <td>16.0</td>\n",
       "      <td>10.0</td>\n",
       "      <td>14.0</td>\n",
       "      <td>perfumery</td>\n",
       "    </tr>\n",
       "    <tr>\n",
       "      <th>1</th>\n",
       "      <td>3aa071139cb16b67ca9e5dea641aaa2f</td>\n",
       "      <td>artes</td>\n",
       "      <td>44.0</td>\n",
       "      <td>276.0</td>\n",
       "      <td>1.0</td>\n",
       "      <td>1000.0</td>\n",
       "      <td>30.0</td>\n",
       "      <td>18.0</td>\n",
       "      <td>20.0</td>\n",
       "      <td>art</td>\n",
       "    </tr>\n",
       "    <tr>\n",
       "      <th>2</th>\n",
       "      <td>96bd76ec8810374ed1b65e291975717f</td>\n",
       "      <td>esporte_lazer</td>\n",
       "      <td>46.0</td>\n",
       "      <td>250.0</td>\n",
       "      <td>1.0</td>\n",
       "      <td>154.0</td>\n",
       "      <td>18.0</td>\n",
       "      <td>9.0</td>\n",
       "      <td>15.0</td>\n",
       "      <td>sports_leisure</td>\n",
       "    </tr>\n",
       "    <tr>\n",
       "      <th>3</th>\n",
       "      <td>cef67bcfe19066a932b7673e239eb23d</td>\n",
       "      <td>bebes</td>\n",
       "      <td>27.0</td>\n",
       "      <td>261.0</td>\n",
       "      <td>1.0</td>\n",
       "      <td>371.0</td>\n",
       "      <td>26.0</td>\n",
       "      <td>4.0</td>\n",
       "      <td>26.0</td>\n",
       "      <td>baby</td>\n",
       "    </tr>\n",
       "    <tr>\n",
       "      <th>4</th>\n",
       "      <td>9dc1a7de274444849c219cff195d0b71</td>\n",
       "      <td>utilidades_domesticas</td>\n",
       "      <td>37.0</td>\n",
       "      <td>402.0</td>\n",
       "      <td>4.0</td>\n",
       "      <td>625.0</td>\n",
       "      <td>20.0</td>\n",
       "      <td>17.0</td>\n",
       "      <td>13.0</td>\n",
       "      <td>housewares</td>\n",
       "    </tr>\n",
       "  </tbody>\n",
       "</table>\n",
       "</div>"
      ],
      "text/plain": [
       "                         product_id  product_category_name  \\\n",
       "0  1e9e8ef04dbcff4541ed26657ea517e5             perfumaria   \n",
       "1  3aa071139cb16b67ca9e5dea641aaa2f                  artes   \n",
       "2  96bd76ec8810374ed1b65e291975717f          esporte_lazer   \n",
       "3  cef67bcfe19066a932b7673e239eb23d                  bebes   \n",
       "4  9dc1a7de274444849c219cff195d0b71  utilidades_domesticas   \n",
       "\n",
       "   product_name_lenght  product_description_lenght  product_photos_qty  \\\n",
       "0                 40.0                       287.0                 1.0   \n",
       "1                 44.0                       276.0                 1.0   \n",
       "2                 46.0                       250.0                 1.0   \n",
       "3                 27.0                       261.0                 1.0   \n",
       "4                 37.0                       402.0                 4.0   \n",
       "\n",
       "   product_weight_g  product_length_cm  product_height_cm  product_width_cm  \\\n",
       "0             225.0               16.0               10.0              14.0   \n",
       "1            1000.0               30.0               18.0              20.0   \n",
       "2             154.0               18.0                9.0              15.0   \n",
       "3             371.0               26.0                4.0              26.0   \n",
       "4             625.0               20.0               17.0              13.0   \n",
       "\n",
       "  product_category_name_english  \n",
       "0                     perfumery  \n",
       "1                           art  \n",
       "2                sports_leisure  \n",
       "3                          baby  \n",
       "4                    housewares  "
      ]
     },
     "execution_count": 41,
     "metadata": {},
     "output_type": "execute_result"
    }
   ],
   "source": [
    "df_merge6= pd.merge(df_products, df_product_category, on='product_category_name', how='left')\n",
    "df_merge6.head()"
   ]
  },
  {
   "cell_type": "code",
   "execution_count": 42,
   "metadata": {
    "id": "aHtIU0WjNHJS"
   },
   "outputs": [],
   "source": [
    "df_merge6.rename(columns={'product_category_name_english':'product_main_category'},inplace=True)"
   ]
  },
  {
   "cell_type": "code",
   "execution_count": 43,
   "metadata": {
    "colab": {
     "base_uri": "https://localhost:8080/"
    },
    "id": "dEBzB7b8NYka",
    "outputId": "67e03e70-60be-4c9f-b25b-fe27561e3219"
   },
   "outputs": [
    {
     "name": "stdout",
     "output_type": "stream",
     "text": [
      "<class 'pandas.core.frame.DataFrame'>\n",
      "RangeIndex: 32951 entries, 0 to 32950\n",
      "Data columns (total 10 columns):\n",
      " #   Column                      Non-Null Count  Dtype  \n",
      "---  ------                      --------------  -----  \n",
      " 0   product_id                  32951 non-null  object \n",
      " 1   product_category_name       32341 non-null  object \n",
      " 2   product_name_lenght         32341 non-null  float64\n",
      " 3   product_description_lenght  32341 non-null  float64\n",
      " 4   product_photos_qty          32341 non-null  float64\n",
      " 5   product_weight_g            32949 non-null  float64\n",
      " 6   product_length_cm           32949 non-null  float64\n",
      " 7   product_height_cm           32949 non-null  float64\n",
      " 8   product_width_cm            32949 non-null  float64\n",
      " 9   product_main_category       32328 non-null  object \n",
      "dtypes: float64(7), object(3)\n",
      "memory usage: 2.5+ MB\n"
     ]
    }
   ],
   "source": [
    "df_merge6.info()"
   ]
  },
  {
   "cell_type": "code",
   "execution_count": 44,
   "metadata": {},
   "outputs": [],
   "source": [
    "#df_merge6.to_csv('product data.csv', index=False)"
   ]
  },
  {
   "cell_type": "markdown",
   "metadata": {
    "id": "U9ZnboMM5ltC"
   },
   "source": [
    "# - order_items_dataset"
   ]
  },
  {
   "cell_type": "code",
   "execution_count": 45,
   "metadata": {
    "colab": {
     "base_uri": "https://localhost:8080/",
     "height": 226
    },
    "id": "ZnKgsv8WxMGr",
    "outputId": "8a2dd59d-1d5a-4149-a7ef-0f5352c38221"
   },
   "outputs": [
    {
     "name": "stderr",
     "output_type": "stream",
     "text": [
      "<>:1: SyntaxWarning: invalid escape sequence '\\o'\n",
      "<>:1: SyntaxWarning: invalid escape sequence '\\o'\n",
      "C:\\Users\\Amr Saber\\AppData\\Local\\Temp\\ipykernel_28988\\1941401555.py:1: SyntaxWarning: invalid escape sequence '\\o'\n",
      "  df_order_items = pd.read_csv('archive (4)\\olist_order_items_dataset.csv', encoding='latin-1')\n"
     ]
    },
    {
     "data": {
      "text/html": [
       "<div>\n",
       "<style scoped>\n",
       "    .dataframe tbody tr th:only-of-type {\n",
       "        vertical-align: middle;\n",
       "    }\n",
       "\n",
       "    .dataframe tbody tr th {\n",
       "        vertical-align: top;\n",
       "    }\n",
       "\n",
       "    .dataframe thead th {\n",
       "        text-align: right;\n",
       "    }\n",
       "</style>\n",
       "<table border=\"1\" class=\"dataframe\">\n",
       "  <thead>\n",
       "    <tr style=\"text-align: right;\">\n",
       "      <th></th>\n",
       "      <th>order_id</th>\n",
       "      <th>order_item_id</th>\n",
       "      <th>product_id</th>\n",
       "      <th>seller_id</th>\n",
       "      <th>shipping_limit_date</th>\n",
       "      <th>price</th>\n",
       "      <th>freight_value</th>\n",
       "    </tr>\n",
       "  </thead>\n",
       "  <tbody>\n",
       "    <tr>\n",
       "      <th>0</th>\n",
       "      <td>00010242fe8c5a6d1ba2dd792cb16214</td>\n",
       "      <td>1</td>\n",
       "      <td>4244733e06e7ecb4970a6e2683c13e61</td>\n",
       "      <td>48436dade18ac8b2bce089ec2a041202</td>\n",
       "      <td>2017-09-19 09:45:35</td>\n",
       "      <td>58.90</td>\n",
       "      <td>13.29</td>\n",
       "    </tr>\n",
       "    <tr>\n",
       "      <th>1</th>\n",
       "      <td>00018f77f2f0320c557190d7a144bdd3</td>\n",
       "      <td>1</td>\n",
       "      <td>e5f2d52b802189ee658865ca93d83a8f</td>\n",
       "      <td>dd7ddc04e1b6c2c614352b383efe2d36</td>\n",
       "      <td>2017-05-03 11:05:13</td>\n",
       "      <td>239.90</td>\n",
       "      <td>19.93</td>\n",
       "    </tr>\n",
       "    <tr>\n",
       "      <th>2</th>\n",
       "      <td>000229ec398224ef6ca0657da4fc703e</td>\n",
       "      <td>1</td>\n",
       "      <td>c777355d18b72b67abbeef9df44fd0fd</td>\n",
       "      <td>5b51032eddd242adc84c38acab88f23d</td>\n",
       "      <td>2018-01-18 14:48:30</td>\n",
       "      <td>199.00</td>\n",
       "      <td>17.87</td>\n",
       "    </tr>\n",
       "    <tr>\n",
       "      <th>3</th>\n",
       "      <td>00024acbcdf0a6daa1e931b038114c75</td>\n",
       "      <td>1</td>\n",
       "      <td>7634da152a4610f1595efa32f14722fc</td>\n",
       "      <td>9d7a1d34a5052409006425275ba1c2b4</td>\n",
       "      <td>2018-08-15 10:10:18</td>\n",
       "      <td>12.99</td>\n",
       "      <td>12.79</td>\n",
       "    </tr>\n",
       "    <tr>\n",
       "      <th>4</th>\n",
       "      <td>00042b26cf59d7ce69dfabb4e55b4fd9</td>\n",
       "      <td>1</td>\n",
       "      <td>ac6c3623068f30de03045865e4e10089</td>\n",
       "      <td>df560393f3a51e74553ab94004ba5c87</td>\n",
       "      <td>2017-02-13 13:57:51</td>\n",
       "      <td>199.90</td>\n",
       "      <td>18.14</td>\n",
       "    </tr>\n",
       "  </tbody>\n",
       "</table>\n",
       "</div>"
      ],
      "text/plain": [
       "                           order_id  order_item_id  \\\n",
       "0  00010242fe8c5a6d1ba2dd792cb16214              1   \n",
       "1  00018f77f2f0320c557190d7a144bdd3              1   \n",
       "2  000229ec398224ef6ca0657da4fc703e              1   \n",
       "3  00024acbcdf0a6daa1e931b038114c75              1   \n",
       "4  00042b26cf59d7ce69dfabb4e55b4fd9              1   \n",
       "\n",
       "                         product_id                         seller_id  \\\n",
       "0  4244733e06e7ecb4970a6e2683c13e61  48436dade18ac8b2bce089ec2a041202   \n",
       "1  e5f2d52b802189ee658865ca93d83a8f  dd7ddc04e1b6c2c614352b383efe2d36   \n",
       "2  c777355d18b72b67abbeef9df44fd0fd  5b51032eddd242adc84c38acab88f23d   \n",
       "3  7634da152a4610f1595efa32f14722fc  9d7a1d34a5052409006425275ba1c2b4   \n",
       "4  ac6c3623068f30de03045865e4e10089  df560393f3a51e74553ab94004ba5c87   \n",
       "\n",
       "   shipping_limit_date   price  freight_value  \n",
       "0  2017-09-19 09:45:35   58.90          13.29  \n",
       "1  2017-05-03 11:05:13  239.90          19.93  \n",
       "2  2018-01-18 14:48:30  199.00          17.87  \n",
       "3  2018-08-15 10:10:18   12.99          12.79  \n",
       "4  2017-02-13 13:57:51  199.90          18.14  "
      ]
     },
     "execution_count": 45,
     "metadata": {},
     "output_type": "execute_result"
    }
   ],
   "source": [
    "df_order_items = pd.read_csv('archive (4)\\olist_order_items_dataset.csv', encoding='latin-1')\n",
    "df_order_items.head()"
   ]
  },
  {
   "cell_type": "code",
   "execution_count": 46,
   "metadata": {
    "colab": {
     "base_uri": "https://localhost:8080/"
    },
    "id": "8J1iRr8I5_d7",
    "outputId": "ab8e97c8-bea0-4cc8-d7a6-c5e1e11471ac"
   },
   "outputs": [
    {
     "name": "stdout",
     "output_type": "stream",
     "text": [
      "<class 'pandas.core.frame.DataFrame'>\n",
      "RangeIndex: 112650 entries, 0 to 112649\n",
      "Data columns (total 7 columns):\n",
      " #   Column               Non-Null Count   Dtype  \n",
      "---  ------               --------------   -----  \n",
      " 0   order_id             112650 non-null  object \n",
      " 1   order_item_id        112650 non-null  int64  \n",
      " 2   product_id           112650 non-null  object \n",
      " 3   seller_id            112650 non-null  object \n",
      " 4   shipping_limit_date  112650 non-null  object \n",
      " 5   price                112650 non-null  float64\n",
      " 6   freight_value        112650 non-null  float64\n",
      "dtypes: float64(2), int64(1), object(4)\n",
      "memory usage: 6.0+ MB\n"
     ]
    }
   ],
   "source": [
    "df_order_items.info()"
   ]
  },
  {
   "cell_type": "code",
   "execution_count": 47,
   "metadata": {
    "colab": {
     "base_uri": "https://localhost:8080/"
    },
    "id": "NFilOLel68FL",
    "outputId": "658a5184-dd78-4cca-e2e4-7a8d81d86a39"
   },
   "outputs": [
    {
     "data": {
      "text/plain": [
       "0"
      ]
     },
     "execution_count": 47,
     "metadata": {},
     "output_type": "execute_result"
    }
   ],
   "source": [
    "df_order_items.duplicated().sum()"
   ]
  },
  {
   "cell_type": "markdown",
   "metadata": {
    "id": "EO-Bre9KPjHO"
   },
   "source": [
    "merge between df_merge7 and df_merge4 (Ordars)"
   ]
  },
  {
   "cell_type": "code",
   "execution_count": 48,
   "metadata": {
    "id": "TA90DS8TSSBs"
   },
   "outputs": [
    {
     "data": {
      "text/html": [
       "<div>\n",
       "<style scoped>\n",
       "    .dataframe tbody tr th:only-of-type {\n",
       "        vertical-align: middle;\n",
       "    }\n",
       "\n",
       "    .dataframe tbody tr th {\n",
       "        vertical-align: top;\n",
       "    }\n",
       "\n",
       "    .dataframe thead th {\n",
       "        text-align: right;\n",
       "    }\n",
       "</style>\n",
       "<table border=\"1\" class=\"dataframe\">\n",
       "  <thead>\n",
       "    <tr style=\"text-align: right;\">\n",
       "      <th></th>\n",
       "      <th>order_id</th>\n",
       "      <th>payment_sequential</th>\n",
       "      <th>payment_type</th>\n",
       "      <th>payment_installments</th>\n",
       "      <th>payment_value</th>\n",
       "      <th>review_id</th>\n",
       "      <th>review_score</th>\n",
       "      <th>review_comment_title</th>\n",
       "      <th>review_comment_message</th>\n",
       "      <th>review_creation_date</th>\n",
       "      <th>...</th>\n",
       "      <th>order_approved_at</th>\n",
       "      <th>order_delivered_carrier_date</th>\n",
       "      <th>order_delivered_customer_date</th>\n",
       "      <th>order_estimated_delivery_date</th>\n",
       "      <th>order_item_id</th>\n",
       "      <th>product_id</th>\n",
       "      <th>seller_id</th>\n",
       "      <th>shipping_limit_date</th>\n",
       "      <th>price</th>\n",
       "      <th>freight_value</th>\n",
       "    </tr>\n",
       "  </thead>\n",
       "  <tbody>\n",
       "    <tr>\n",
       "      <th>0</th>\n",
       "      <td>b81ef226f3fe1789b1e8b2acac839d17</td>\n",
       "      <td>1</td>\n",
       "      <td>credit_card</td>\n",
       "      <td>8</td>\n",
       "      <td>99.33</td>\n",
       "      <td>4ce650e117a5b292bf5ea980a61eb61e</td>\n",
       "      <td>1.0</td>\n",
       "      <td>NÃ£o recomendo</td>\n",
       "      <td>Produto com qualidade ruim, amassado e descasc...</td>\n",
       "      <td>2018-05-10 00:00:00</td>\n",
       "      <td>...</td>\n",
       "      <td>2018-04-25 22:15:09</td>\n",
       "      <td>2018-05-02 15:20:00</td>\n",
       "      <td>2018-05-09 17:36:51</td>\n",
       "      <td>2018-05-22 00:00:00</td>\n",
       "      <td>1.0</td>\n",
       "      <td>af74cc53dcffc8384b29e7abfa41902b</td>\n",
       "      <td>213b25e6f54661939f11710a6fddb871</td>\n",
       "      <td>2018-05-02 22:15:09</td>\n",
       "      <td>79.80</td>\n",
       "      <td>19.53</td>\n",
       "    </tr>\n",
       "    <tr>\n",
       "      <th>1</th>\n",
       "      <td>a9810da82917af2d9aefd1278f1dcfa0</td>\n",
       "      <td>1</td>\n",
       "      <td>credit_card</td>\n",
       "      <td>1</td>\n",
       "      <td>24.39</td>\n",
       "      <td>ad2036caca61484fc435d7e673c020f2</td>\n",
       "      <td>5.0</td>\n",
       "      <td>NaN</td>\n",
       "      <td>NaN</td>\n",
       "      <td>2018-06-30 00:00:00</td>\n",
       "      <td>...</td>\n",
       "      <td>2018-06-26 11:18:58</td>\n",
       "      <td>2018-06-28 14:18:00</td>\n",
       "      <td>2018-06-29 20:32:09</td>\n",
       "      <td>2018-07-16 00:00:00</td>\n",
       "      <td>1.0</td>\n",
       "      <td>a630cc320a8c872f9de830cf121661a3</td>\n",
       "      <td>eaf6d55068dea77334e8477d3878d89e</td>\n",
       "      <td>2018-07-02 11:18:58</td>\n",
       "      <td>17.00</td>\n",
       "      <td>7.39</td>\n",
       "    </tr>\n",
       "    <tr>\n",
       "      <th>2</th>\n",
       "      <td>25e8ea4e93396b6fa0d3dd708e76c1bd</td>\n",
       "      <td>1</td>\n",
       "      <td>credit_card</td>\n",
       "      <td>1</td>\n",
       "      <td>65.71</td>\n",
       "      <td>bcddfa0f7d2e54cfc74bae4f01b84d92</td>\n",
       "      <td>5.0</td>\n",
       "      <td>NaN</td>\n",
       "      <td>Aprovada</td>\n",
       "      <td>2017-12-19 00:00:00</td>\n",
       "      <td>...</td>\n",
       "      <td>2017-12-14 09:52:34</td>\n",
       "      <td>2017-12-15 20:13:22</td>\n",
       "      <td>2017-12-18 17:24:41</td>\n",
       "      <td>2018-01-04 00:00:00</td>\n",
       "      <td>1.0</td>\n",
       "      <td>2028bf1b01cafb2d2b1901fca4083222</td>\n",
       "      <td>cc419e0650a3c5ba77189a1882b7556a</td>\n",
       "      <td>2017-12-26 09:52:34</td>\n",
       "      <td>56.99</td>\n",
       "      <td>8.72</td>\n",
       "    </tr>\n",
       "    <tr>\n",
       "      <th>3</th>\n",
       "      <td>ba78997921bbcdc1373bb41e913ab953</td>\n",
       "      <td>1</td>\n",
       "      <td>credit_card</td>\n",
       "      <td>8</td>\n",
       "      <td>107.78</td>\n",
       "      <td>c37a0e51e5df82bdb55d38ff0ffb6af3</td>\n",
       "      <td>5.0</td>\n",
       "      <td>NaN</td>\n",
       "      <td>NaN</td>\n",
       "      <td>2017-12-21 00:00:00</td>\n",
       "      <td>...</td>\n",
       "      <td>2017-12-06 12:13:20</td>\n",
       "      <td>2017-12-07 20:28:28</td>\n",
       "      <td>2017-12-21 01:35:51</td>\n",
       "      <td>2018-01-04 00:00:00</td>\n",
       "      <td>1.0</td>\n",
       "      <td>548e5bfe28edceab6b51fa707cc9556f</td>\n",
       "      <td>da8622b14eb17ae2831f4ac5b9dab84a</td>\n",
       "      <td>2017-12-12 12:13:20</td>\n",
       "      <td>89.90</td>\n",
       "      <td>17.88</td>\n",
       "    </tr>\n",
       "    <tr>\n",
       "      <th>4</th>\n",
       "      <td>ba78997921bbcdc1373bb41e913ab953</td>\n",
       "      <td>1</td>\n",
       "      <td>credit_card</td>\n",
       "      <td>8</td>\n",
       "      <td>107.78</td>\n",
       "      <td>5bc7680443b4ef765fec11a8201eeb0c</td>\n",
       "      <td>5.0</td>\n",
       "      <td>NaN</td>\n",
       "      <td>NaN</td>\n",
       "      <td>2017-12-21 00:00:00</td>\n",
       "      <td>...</td>\n",
       "      <td>2017-12-06 12:13:20</td>\n",
       "      <td>2017-12-07 20:28:28</td>\n",
       "      <td>2017-12-21 01:35:51</td>\n",
       "      <td>2018-01-04 00:00:00</td>\n",
       "      <td>1.0</td>\n",
       "      <td>548e5bfe28edceab6b51fa707cc9556f</td>\n",
       "      <td>da8622b14eb17ae2831f4ac5b9dab84a</td>\n",
       "      <td>2017-12-12 12:13:20</td>\n",
       "      <td>89.90</td>\n",
       "      <td>17.88</td>\n",
       "    </tr>\n",
       "  </tbody>\n",
       "</table>\n",
       "<p>5 rows × 24 columns</p>\n",
       "</div>"
      ],
      "text/plain": [
       "                           order_id  payment_sequential payment_type  \\\n",
       "0  b81ef226f3fe1789b1e8b2acac839d17                   1  credit_card   \n",
       "1  a9810da82917af2d9aefd1278f1dcfa0                   1  credit_card   \n",
       "2  25e8ea4e93396b6fa0d3dd708e76c1bd                   1  credit_card   \n",
       "3  ba78997921bbcdc1373bb41e913ab953                   1  credit_card   \n",
       "4  ba78997921bbcdc1373bb41e913ab953                   1  credit_card   \n",
       "\n",
       "   payment_installments  payment_value                         review_id  \\\n",
       "0                     8          99.33  4ce650e117a5b292bf5ea980a61eb61e   \n",
       "1                     1          24.39  ad2036caca61484fc435d7e673c020f2   \n",
       "2                     1          65.71  bcddfa0f7d2e54cfc74bae4f01b84d92   \n",
       "3                     8         107.78  c37a0e51e5df82bdb55d38ff0ffb6af3   \n",
       "4                     8         107.78  5bc7680443b4ef765fec11a8201eeb0c   \n",
       "\n",
       "   review_score review_comment_title  \\\n",
       "0           1.0       NÃ£o recomendo   \n",
       "1           5.0                  NaN   \n",
       "2           5.0                  NaN   \n",
       "3           5.0                  NaN   \n",
       "4           5.0                  NaN   \n",
       "\n",
       "                              review_comment_message review_creation_date  \\\n",
       "0  Produto com qualidade ruim, amassado e descasc...  2018-05-10 00:00:00   \n",
       "1                                                NaN  2018-06-30 00:00:00   \n",
       "2                                           Aprovada  2017-12-19 00:00:00   \n",
       "3                                                NaN  2017-12-21 00:00:00   \n",
       "4                                                NaN  2017-12-21 00:00:00   \n",
       "\n",
       "   ...    order_approved_at order_delivered_carrier_date  \\\n",
       "0  ...  2018-04-25 22:15:09          2018-05-02 15:20:00   \n",
       "1  ...  2018-06-26 11:18:58          2018-06-28 14:18:00   \n",
       "2  ...  2017-12-14 09:52:34          2017-12-15 20:13:22   \n",
       "3  ...  2017-12-06 12:13:20          2017-12-07 20:28:28   \n",
       "4  ...  2017-12-06 12:13:20          2017-12-07 20:28:28   \n",
       "\n",
       "  order_delivered_customer_date order_estimated_delivery_date order_item_id  \\\n",
       "0           2018-05-09 17:36:51           2018-05-22 00:00:00           1.0   \n",
       "1           2018-06-29 20:32:09           2018-07-16 00:00:00           1.0   \n",
       "2           2017-12-18 17:24:41           2018-01-04 00:00:00           1.0   \n",
       "3           2017-12-21 01:35:51           2018-01-04 00:00:00           1.0   \n",
       "4           2017-12-21 01:35:51           2018-01-04 00:00:00           1.0   \n",
       "\n",
       "                         product_id                         seller_id  \\\n",
       "0  af74cc53dcffc8384b29e7abfa41902b  213b25e6f54661939f11710a6fddb871   \n",
       "1  a630cc320a8c872f9de830cf121661a3  eaf6d55068dea77334e8477d3878d89e   \n",
       "2  2028bf1b01cafb2d2b1901fca4083222  cc419e0650a3c5ba77189a1882b7556a   \n",
       "3  548e5bfe28edceab6b51fa707cc9556f  da8622b14eb17ae2831f4ac5b9dab84a   \n",
       "4  548e5bfe28edceab6b51fa707cc9556f  da8622b14eb17ae2831f4ac5b9dab84a   \n",
       "\n",
       "   shipping_limit_date  price freight_value  \n",
       "0  2018-05-02 22:15:09  79.80         19.53  \n",
       "1  2018-07-02 11:18:58  17.00          7.39  \n",
       "2  2017-12-26 09:52:34  56.99          8.72  \n",
       "3  2017-12-12 12:13:20  89.90         17.88  \n",
       "4  2017-12-12 12:13:20  89.90         17.88  \n",
       "\n",
       "[5 rows x 24 columns]"
      ]
     },
     "execution_count": 48,
     "metadata": {},
     "output_type": "execute_result"
    }
   ],
   "source": [
    "\n",
    "df_merge7= pd.merge(df_merge3, df_order_items, on='order_id', how='left')\n",
    "df_merge7.head()"
   ]
  },
  {
   "cell_type": "code",
   "execution_count": 49,
   "metadata": {},
   "outputs": [
    {
     "name": "stdout",
     "output_type": "stream",
     "text": [
      "<class 'pandas.core.frame.DataFrame'>\n",
      "RangeIndex: 119140 entries, 0 to 119139\n",
      "Data columns (total 24 columns):\n",
      " #   Column                         Non-Null Count   Dtype  \n",
      "---  ------                         --------------   -----  \n",
      " 0   order_id                       119140 non-null  object \n",
      " 1   payment_sequential             119140 non-null  int64  \n",
      " 2   payment_type                   119140 non-null  object \n",
      " 3   payment_installments           119140 non-null  int64  \n",
      " 4   payment_value                  119140 non-null  float64\n",
      " 5   review_id                      118143 non-null  object \n",
      " 6   review_score                   118143 non-null  float64\n",
      " 7   review_comment_title           13989 non-null   object \n",
      " 8   review_comment_message         50242 non-null   object \n",
      " 9   review_creation_date           118143 non-null  object \n",
      " 10  review_answer_timestamp        118143 non-null  object \n",
      " 11  customer_id                    119140 non-null  object \n",
      " 12  order_status                   119140 non-null  object \n",
      " 13  order_purchase_timestamp       119140 non-null  object \n",
      " 14  order_approved_at              118963 non-null  object \n",
      " 15  order_delivered_carrier_date   117054 non-null  object \n",
      " 16  order_delivered_customer_date  115719 non-null  object \n",
      " 17  order_estimated_delivery_date  119140 non-null  object \n",
      " 18  order_item_id                  118307 non-null  float64\n",
      " 19  product_id                     118307 non-null  object \n",
      " 20  seller_id                      118307 non-null  object \n",
      " 21  shipping_limit_date            118307 non-null  object \n",
      " 22  price                          118307 non-null  float64\n",
      " 23  freight_value                  118307 non-null  float64\n",
      "dtypes: float64(5), int64(2), object(17)\n",
      "memory usage: 21.8+ MB\n"
     ]
    }
   ],
   "source": [
    "df_merge7.info()"
   ]
  },
  {
   "cell_type": "code",
   "execution_count": 67,
   "metadata": {},
   "outputs": [],
   "source": [
    "#df_merge7.to_csv('orders data.csv', index=False)"
   ]
  },
  {
   "cell_type": "code",
   "execution_count": 51,
   "metadata": {},
   "outputs": [
    {
     "data": {
      "text/plain": [
       "Index(['order_id', 'payment_sequential', 'payment_type',\n",
       "       'payment_installments', 'payment_value', 'review_id', 'review_score',\n",
       "       'review_comment_title', 'review_comment_message',\n",
       "       'review_creation_date', 'review_answer_timestamp', 'customer_id',\n",
       "       'order_status', 'order_purchase_timestamp', 'order_approved_at',\n",
       "       'order_delivered_carrier_date', 'order_delivered_customer_date',\n",
       "       'order_estimated_delivery_date', 'order_item_id', 'product_id',\n",
       "       'seller_id', 'shipping_limit_date', 'price', 'freight_value'],\n",
       "      dtype='object')"
      ]
     },
     "execution_count": 51,
     "metadata": {},
     "output_type": "execute_result"
    }
   ],
   "source": [
    "df_merge7.columns"
   ]
  },
  {
   "cell_type": "code",
   "execution_count": 52,
   "metadata": {},
   "outputs": [
    {
     "data": {
      "text/plain": [
       "Index(['customer_id', 'customer_unique_id', 'customer_zip_code_prefix',\n",
       "       'customer_city', 'customer_state', 'customer_geolocation_lat',\n",
       "       'customer_geolocation_lng'],\n",
       "      dtype='object')"
      ]
     },
     "execution_count": 52,
     "metadata": {},
     "output_type": "execute_result"
    }
   ],
   "source": [
    "df_merge1.columns"
   ]
  },
  {
   "cell_type": "code",
   "execution_count": 53,
   "metadata": {},
   "outputs": [
    {
     "data": {
      "text/plain": [
       "Index(['product_id', 'product_category_name', 'product_name_lenght',\n",
       "       'product_description_lenght', 'product_photos_qty', 'product_weight_g',\n",
       "       'product_length_cm', 'product_height_cm', 'product_width_cm',\n",
       "       'product_main_category'],\n",
       "      dtype='object')"
      ]
     },
     "execution_count": 53,
     "metadata": {},
     "output_type": "execute_result"
    }
   ],
   "source": [
    "df_merge6.columns"
   ]
  },
  {
   "cell_type": "code",
   "execution_count": 54,
   "metadata": {},
   "outputs": [
    {
     "data": {
      "text/plain": [
       "Index(['seller_id', 'seller_zip_code_prefix', 'seller_city', 'seller_state',\n",
       "       'seller_geolocation_lat', 'seller_geolocation_lng'],\n",
       "      dtype='object')"
      ]
     },
     "execution_count": 54,
     "metadata": {},
     "output_type": "execute_result"
    }
   ],
   "source": [
    "df_merge5.columns"
   ]
  },
  {
   "cell_type": "markdown",
   "metadata": {},
   "source": [
    "Customers Clustering "
   ]
  },
  {
   "cell_type": "code",
   "execution_count": 55,
   "metadata": {},
   "outputs": [],
   "source": [
    "\n",
    "import numpy as np\n",
    "from sklearn.preprocessing import StandardScaler\n",
    "from sklearn.cluster import KMeans\n",
    "import matplotlib.pyplot as plt\n",
    "import seaborn as sns"
   ]
  },
  {
   "cell_type": "code",
   "execution_count": 56,
   "metadata": {},
   "outputs": [
    {
     "data": {
      "text/html": [
       "<div>\n",
       "<style scoped>\n",
       "    .dataframe tbody tr th:only-of-type {\n",
       "        vertical-align: middle;\n",
       "    }\n",
       "\n",
       "    .dataframe tbody tr th {\n",
       "        vertical-align: top;\n",
       "    }\n",
       "\n",
       "    .dataframe thead th {\n",
       "        text-align: right;\n",
       "    }\n",
       "</style>\n",
       "<table border=\"1\" class=\"dataframe\">\n",
       "  <thead>\n",
       "    <tr style=\"text-align: right;\">\n",
       "      <th></th>\n",
       "      <th>customer_id</th>\n",
       "      <th>customer_unique_id</th>\n",
       "      <th>customer_zip_code_prefix</th>\n",
       "      <th>customer_city</th>\n",
       "      <th>customer_state</th>\n",
       "      <th>customer_geolocation_lat</th>\n",
       "      <th>customer_geolocation_lng</th>\n",
       "      <th>Total_Purchase_Value</th>\n",
       "      <th>Number_of_Orders</th>\n",
       "      <th>Number_of_Products</th>\n",
       "    </tr>\n",
       "  </thead>\n",
       "  <tbody>\n",
       "    <tr>\n",
       "      <th>0</th>\n",
       "      <td>06b8999e2fba1a1fbc88172c00ba8bc7</td>\n",
       "      <td>861eff4711a542e4b93843c6dd7febb0</td>\n",
       "      <td>14409</td>\n",
       "      <td>franca</td>\n",
       "      <td>SP</td>\n",
       "      <td>-20.509897</td>\n",
       "      <td>-47.397866</td>\n",
       "      <td>168.75</td>\n",
       "      <td>1</td>\n",
       "      <td>1</td>\n",
       "    </tr>\n",
       "    <tr>\n",
       "      <th>1</th>\n",
       "      <td>06b8999e2fba1a1fbc88172c00ba8bc7</td>\n",
       "      <td>861eff4711a542e4b93843c6dd7febb0</td>\n",
       "      <td>14409</td>\n",
       "      <td>franca</td>\n",
       "      <td>SP</td>\n",
       "      <td>-20.497396</td>\n",
       "      <td>-47.399241</td>\n",
       "      <td>168.75</td>\n",
       "      <td>1</td>\n",
       "      <td>1</td>\n",
       "    </tr>\n",
       "    <tr>\n",
       "      <th>2</th>\n",
       "      <td>06b8999e2fba1a1fbc88172c00ba8bc7</td>\n",
       "      <td>861eff4711a542e4b93843c6dd7febb0</td>\n",
       "      <td>14409</td>\n",
       "      <td>franca</td>\n",
       "      <td>SP</td>\n",
       "      <td>-20.510459</td>\n",
       "      <td>-47.399553</td>\n",
       "      <td>168.75</td>\n",
       "      <td>1</td>\n",
       "      <td>1</td>\n",
       "    </tr>\n",
       "    <tr>\n",
       "      <th>3</th>\n",
       "      <td>06b8999e2fba1a1fbc88172c00ba8bc7</td>\n",
       "      <td>861eff4711a542e4b93843c6dd7febb0</td>\n",
       "      <td>14409</td>\n",
       "      <td>franca</td>\n",
       "      <td>SP</td>\n",
       "      <td>-20.480940</td>\n",
       "      <td>-47.394161</td>\n",
       "      <td>168.75</td>\n",
       "      <td>1</td>\n",
       "      <td>1</td>\n",
       "    </tr>\n",
       "    <tr>\n",
       "      <th>4</th>\n",
       "      <td>06b8999e2fba1a1fbc88172c00ba8bc7</td>\n",
       "      <td>861eff4711a542e4b93843c6dd7febb0</td>\n",
       "      <td>14409</td>\n",
       "      <td>franca</td>\n",
       "      <td>SP</td>\n",
       "      <td>-20.515413</td>\n",
       "      <td>-47.398194</td>\n",
       "      <td>168.75</td>\n",
       "      <td>1</td>\n",
       "      <td>1</td>\n",
       "    </tr>\n",
       "  </tbody>\n",
       "</table>\n",
       "</div>"
      ],
      "text/plain": [
       "                        customer_id                customer_unique_id  \\\n",
       "0  06b8999e2fba1a1fbc88172c00ba8bc7  861eff4711a542e4b93843c6dd7febb0   \n",
       "1  06b8999e2fba1a1fbc88172c00ba8bc7  861eff4711a542e4b93843c6dd7febb0   \n",
       "2  06b8999e2fba1a1fbc88172c00ba8bc7  861eff4711a542e4b93843c6dd7febb0   \n",
       "3  06b8999e2fba1a1fbc88172c00ba8bc7  861eff4711a542e4b93843c6dd7febb0   \n",
       "4  06b8999e2fba1a1fbc88172c00ba8bc7  861eff4711a542e4b93843c6dd7febb0   \n",
       "\n",
       "   customer_zip_code_prefix customer_city customer_state  \\\n",
       "0                     14409        franca             SP   \n",
       "1                     14409        franca             SP   \n",
       "2                     14409        franca             SP   \n",
       "3                     14409        franca             SP   \n",
       "4                     14409        franca             SP   \n",
       "\n",
       "   customer_geolocation_lat  customer_geolocation_lng  Total_Purchase_Value  \\\n",
       "0                -20.509897                -47.397866                168.75   \n",
       "1                -20.497396                -47.399241                168.75   \n",
       "2                -20.510459                -47.399553                168.75   \n",
       "3                -20.480940                -47.394161                168.75   \n",
       "4                -20.515413                -47.398194                168.75   \n",
       "\n",
       "   Number_of_Orders  Number_of_Products  \n",
       "0                 1                   1  \n",
       "1                 1                   1  \n",
       "2                 1                   1  \n",
       "3                 1                   1  \n",
       "4                 1                   1  "
      ]
     },
     "execution_count": 56,
     "metadata": {},
     "output_type": "execute_result"
    }
   ],
   "source": [
    "df_merge7['Total_Purchase_Value'] = df_merge7['payment_value'] + df_merge7['freight_value']\n",
    "customer_agg = df_merge7.groupby('customer_id').agg({\n",
    "    'Total_Purchase_Value': 'sum',\n",
    "    'order_id': 'count',\n",
    "    'product_id': 'count'\n",
    "}).reset_index()\n",
    "customer_agg.columns = ['customer_id', 'Total_Purchase_Value', 'Number_of_Orders', 'Number_of_Products']\n",
    "Customer_clustering = pd.merge(df_merge1, customer_agg, on='customer_id')\n",
    "Customer_clustering.head()"
   ]
  },
  {
   "cell_type": "code",
   "execution_count": 57,
   "metadata": {},
   "outputs": [
    {
     "data": {
      "text/html": [
       "<div>\n",
       "<style scoped>\n",
       "    .dataframe tbody tr th:only-of-type {\n",
       "        vertical-align: middle;\n",
       "    }\n",
       "\n",
       "    .dataframe tbody tr th {\n",
       "        vertical-align: top;\n",
       "    }\n",
       "\n",
       "    .dataframe thead th {\n",
       "        text-align: right;\n",
       "    }\n",
       "</style>\n",
       "<table border=\"1\" class=\"dataframe\">\n",
       "  <thead>\n",
       "    <tr style=\"text-align: right;\">\n",
       "      <th></th>\n",
       "      <th>Total_Purchase_Value</th>\n",
       "      <th>Number_of_Orders</th>\n",
       "      <th>Number_of_Products</th>\n",
       "    </tr>\n",
       "  </thead>\n",
       "  <tbody>\n",
       "    <tr>\n",
       "      <th>0</th>\n",
       "      <td>-0.106717</td>\n",
       "      <td>-0.269313</td>\n",
       "      <td>-0.256388</td>\n",
       "    </tr>\n",
       "    <tr>\n",
       "      <th>1</th>\n",
       "      <td>-0.106717</td>\n",
       "      <td>-0.269313</td>\n",
       "      <td>-0.256388</td>\n",
       "    </tr>\n",
       "    <tr>\n",
       "      <th>2</th>\n",
       "      <td>-0.106717</td>\n",
       "      <td>-0.269313</td>\n",
       "      <td>-0.256388</td>\n",
       "    </tr>\n",
       "    <tr>\n",
       "      <th>3</th>\n",
       "      <td>-0.106717</td>\n",
       "      <td>-0.269313</td>\n",
       "      <td>-0.256388</td>\n",
       "    </tr>\n",
       "    <tr>\n",
       "      <th>4</th>\n",
       "      <td>-0.106717</td>\n",
       "      <td>-0.269313</td>\n",
       "      <td>-0.256388</td>\n",
       "    </tr>\n",
       "  </tbody>\n",
       "</table>\n",
       "</div>"
      ],
      "text/plain": [
       "   Total_Purchase_Value  Number_of_Orders  Number_of_Products\n",
       "0             -0.106717         -0.269313           -0.256388\n",
       "1             -0.106717         -0.269313           -0.256388\n",
       "2             -0.106717         -0.269313           -0.256388\n",
       "3             -0.106717         -0.269313           -0.256388\n",
       "4             -0.106717         -0.269313           -0.256388"
      ]
     },
     "execution_count": 57,
     "metadata": {},
     "output_type": "execute_result"
    }
   ],
   "source": [
    "features_to_scale = ['Total_Purchase_Value', 'Number_of_Orders', 'Number_of_Products']\n",
    "scaler = StandardScaler()\n",
    "Customer_clustering[features_to_scale] = scaler.fit_transform(Customer_clustering[features_to_scale])\n",
    "Customer_clustering[features_to_scale].head()"
   ]
  },
  {
   "cell_type": "code",
   "execution_count": 58,
   "metadata": {},
   "outputs": [],
   "source": [
    "sse = []\n",
    "for k in range(1, 6):\n",
    "    kmeans = KMeans(n_clusters=k, random_state=42)\n",
    "    kmeans.fit(Customer_clustering[features_to_scale])\n",
    "    sse.append(kmeans.inertia_)"
   ]
  },
  {
   "cell_type": "code",
   "execution_count": 59,
   "metadata": {},
   "outputs": [
    {
     "data": {
      "image/png": "[encoded data removed]",
      "text/plain": [
       "<Figure size 1000x600 with 1 Axes>"
      ]
     },
     "metadata": {},
     "output_type": "display_data"
    }
   ],
   "source": [
    "plt.figure(figsize=(10, 6))\n",
    "plt.plot(range(1, 6), sse, marker='o')\n",
    "plt.title('Elbow Method')\n",
    "plt.xlabel('Number of Clusters')\n",
    "plt.ylabel('SSE')\n",
    "plt.show()"
   ]
  },
  {
   "cell_type": "code",
   "execution_count": 60,
   "metadata": {},
   "outputs": [
    {
     "name": "stdout",
     "output_type": "stream",
     "text": [
      "Requirement already satisfied: kneed in c:\\users\\amr saber\\anaconda3\\lib\\site-packages (0.8.5)\n",
      "Requirement already satisfied: numpy>=1.14.2 in c:\\users\\amr saber\\anaconda3\\lib\\site-packages (from kneed) (1.26.4)\n",
      "Requirement already satisfied: scipy>=1.0.0 in c:\\users\\amr saber\\anaconda3\\lib\\site-packages (from kneed) (1.13.1)\n"
     ]
    }
   ],
   "source": [
    "!pip install kneed"
   ]
  },
  {
   "cell_type": "code",
   "execution_count": 61,
   "metadata": {},
   "outputs": [
    {
     "name": "stdout",
     "output_type": "stream",
     "text": [
      "العدد الأمثل للمجموعات هو: 2\n"
     ]
    }
   ],
   "source": [
    "from kneed import KneeLocator\n",
    "\n",
    "kneedle = KneeLocator(range(1, 6), sse, curve=\"convex\", direction=\"decreasing\")\n",
    "optimal_clusters = kneedle.elbow\n",
    "print(f\"العدد الأمثل للمجموعات هو: {optimal_clusters}\")"
   ]
  },
  {
   "cell_type": "code",
   "execution_count": 62,
   "metadata": {},
   "outputs": [
    {
     "name": "stdout",
     "output_type": "stream",
     "text": [
      "                 customer_unique_id  Cluster\n",
      "0  861eff4711a542e4b93843c6dd7febb0        1\n",
      "1  861eff4711a542e4b93843c6dd7febb0        1\n",
      "2  861eff4711a542e4b93843c6dd7febb0        1\n",
      "3  861eff4711a542e4b93843c6dd7febb0        1\n",
      "4  861eff4711a542e4b93843c6dd7febb0        1\n"
     ]
    }
   ],
   "source": [
    "kmeans = KMeans(n_clusters=2, random_state=42)\n",
    "Customer_clustering['Cluster'] = kmeans.fit_predict(Customer_clustering[features_to_scale])\n",
    "print(Customer_clustering[['customer_unique_id', 'Cluster']].head())"
   ]
  },
  {
   "cell_type": "code",
   "execution_count": 63,
   "metadata": {},
   "outputs": [
    {
     "data": {
      "image/png": "[encoded data removed]",
      "text/plain": [
       "<Figure size 640x480 with 1 Axes>"
      ]
     },
     "metadata": {},
     "output_type": "display_data"
    }
   ],
   "source": [
    "sns.countplot(x='Cluster', data=Customer_clustering)\n",
    "plt.title('Distribution of Customers in Each Cluster')\n",
    "plt.show()"
   ]
  },
  {
   "cell_type": "code",
   "execution_count": 66,
   "metadata": {},
   "outputs": [],
   "source": [
    "#Customer_clustering.to_csv('Customer_clustering.csv', index=False)"
   ]
  }
 ],
 "metadata": {
  "colab": {
   "provenance": []
  },
  "kernelspec": {
   "display_name": "Python 3 (ipykernel)",
   "language": "python",
   "name": "python3"
  },
  "language_info": {
   "codemirror_mode": {
    "name": "ipython",
    "version": 3
   },
   "file_extension": ".py",
   "mimetype": "text/x-python",
   "name": "python",
   "nbconvert_exporter": "python",
   "pygments_lexer": "ipython3",
   "version": "3.12.4"
  }
 },
 "nbformat": 4,
 "nbformat_minor": 4
}
